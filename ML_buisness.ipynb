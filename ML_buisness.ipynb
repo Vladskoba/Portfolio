{
 "cells": [
  {
   "cell_type": "markdown",
   "metadata": {},
   "source": [
    "# Проект \"Выбор локации для скважины\""
   ]
  },
  {
   "cell_type": "markdown",
   "metadata": {},
   "source": [
    "Допустим, вы работаете в добывающей компании «ГлавРосГосНефть». Нужно решить, где бурить новую скважину.\n",
    "\n",
    "Вам предоставлены пробы нефти в трёх регионах: в каждом 10 000 месторождений, где измерили качество нефти и объём её запасов. Постройте модель машинного обучения, которая поможет определить регион, где добыча принесёт наибольшую прибыль. Проанализируйте возможную прибыль и риски техникой *Bootstrap.*\n",
    "\n",
    "Шаги для выбора локации:\n",
    "\n",
    "- В избранном регионе ищут месторождения, для каждого определяют значения признаков;\n",
    "- Строят модель и оценивают объём запасов;\n",
    "- Выбирают месторождения с самым высокими оценками значений. Количество месторождений зависит от бюджета компании и стоимости разработки одной скважины;\n",
    "- Прибыль равна суммарной прибыли отобранных месторождений."
   ]
  },
  {
   "cell_type": "markdown",
   "metadata": {},
   "source": [
    "Импорты библиотек"
   ]
  },
  {
   "cell_type": "code",
   "execution_count": 1,
   "metadata": {},
   "outputs": [
    {
     "name": "stdout",
     "output_type": "stream",
     "text": [
      "Requirement already satisfied: phik in /opt/conda/lib/python3.9/site-packages (0.12.4)\n",
      "Requirement already satisfied: numpy>=1.18.0 in /opt/conda/lib/python3.9/site-packages (from phik) (1.21.1)\n",
      "Requirement already satisfied: scipy>=1.5.2 in /opt/conda/lib/python3.9/site-packages (from phik) (1.9.1)\n",
      "Requirement already satisfied: pandas>=0.25.1 in /opt/conda/lib/python3.9/site-packages (from phik) (1.2.4)\n",
      "Requirement already satisfied: matplotlib>=2.2.3 in /opt/conda/lib/python3.9/site-packages (from phik) (3.3.4)\n",
      "Requirement already satisfied: joblib>=0.14.1 in /opt/conda/lib/python3.9/site-packages (from phik) (1.1.0)\n",
      "Requirement already satisfied: pyparsing!=2.0.4,!=2.1.2,!=2.1.6,>=2.0.3 in /opt/conda/lib/python3.9/site-packages (from matplotlib>=2.2.3->phik) (2.4.7)\n",
      "Requirement already satisfied: kiwisolver>=1.0.1 in /opt/conda/lib/python3.9/site-packages (from matplotlib>=2.2.3->phik) (1.4.4)\n",
      "Requirement already satisfied: cycler>=0.10 in /opt/conda/lib/python3.9/site-packages (from matplotlib>=2.2.3->phik) (0.11.0)\n",
      "Requirement already satisfied: pillow>=6.2.0 in /opt/conda/lib/python3.9/site-packages (from matplotlib>=2.2.3->phik) (8.4.0)\n",
      "Requirement already satisfied: python-dateutil>=2.1 in /opt/conda/lib/python3.9/site-packages (from matplotlib>=2.2.3->phik) (2.8.1)\n",
      "Requirement already satisfied: pytz>=2017.3 in /opt/conda/lib/python3.9/site-packages (from pandas>=0.25.1->phik) (2021.1)\n",
      "Requirement already satisfied: six>=1.5 in /opt/conda/lib/python3.9/site-packages (from python-dateutil>=2.1->matplotlib>=2.2.3->phik) (1.16.0)\n"
     ]
    }
   ],
   "source": [
    "import pandas as pd\n",
    "from sklearn.model_selection import train_test_split\n",
    "from sklearn.linear_model import LinearRegression\n",
    "\n",
    "from sklearn.metrics import mean_squared_error\n",
    "import numpy as np\n",
    "\n",
    "import matplotlib.pyplot as plt\n",
    "\n",
    "!pip install phik;\n",
    "from phik import phik_matrix\n",
    "import warnings\n",
    "warnings.filterwarnings('ignore')"
   ]
  },
  {
   "cell_type": "markdown",
   "metadata": {},
   "source": [
    "___Цель работы___:\n",
    "* Предсказать запасы по данным из трёх регионов\n",
    "* Посчитать возможную прибыль и риски в каждом из регионов и выбрать наиболе перспективный\n",
    "___Задачи проекта___:\n",
    "* Загрузить данные\n",
    "* Подготовить данные для применения моделей машинного обучения\n",
    "* Использование модели линейной регресии для предсказания запасов\n",
    "* Подготовка к расчёту прибыли\n",
    "* Предсказание возможной прибыли и рисков убытков\n",
    "\n",
    "___Общий вывод___"
   ]
  },
  {
   "cell_type": "markdown",
   "metadata": {},
   "source": [
    "## Загрузка и подготовка данных"
   ]
  },
  {
   "cell_type": "markdown",
   "metadata": {},
   "source": [
    "### Загрузка и вывод данных"
   ]
  },
  {
   "cell_type": "code",
   "execution_count": 2,
   "metadata": {},
   "outputs": [],
   "source": [
    "geo_data_0 = pd.read_csv('/datasets/geo_data_0.csv')\n",
    "geo_data_1 = pd.read_csv('/datasets/geo_data_1.csv')\n",
    "geo_data_2 = pd.read_csv('/datasets/geo_data_2.csv')"
   ]
  },
  {
   "cell_type": "code",
   "execution_count": 3,
   "metadata": {},
   "outputs": [
    {
     "data": {
      "text/html": [
       "<div>\n",
       "<style scoped>\n",
       "    .dataframe tbody tr th:only-of-type {\n",
       "        vertical-align: middle;\n",
       "    }\n",
       "\n",
       "    .dataframe tbody tr th {\n",
       "        vertical-align: top;\n",
       "    }\n",
       "\n",
       "    .dataframe thead th {\n",
       "        text-align: right;\n",
       "    }\n",
       "</style>\n",
       "<table border=\"1\" class=\"dataframe\">\n",
       "  <thead>\n",
       "    <tr style=\"text-align: right;\">\n",
       "      <th></th>\n",
       "      <th>id</th>\n",
       "      <th>f0</th>\n",
       "      <th>f1</th>\n",
       "      <th>f2</th>\n",
       "      <th>product</th>\n",
       "    </tr>\n",
       "  </thead>\n",
       "  <tbody>\n",
       "    <tr>\n",
       "      <th>0</th>\n",
       "      <td>txEyH</td>\n",
       "      <td>0.705745</td>\n",
       "      <td>-0.497823</td>\n",
       "      <td>1.221170</td>\n",
       "      <td>105.280062</td>\n",
       "    </tr>\n",
       "    <tr>\n",
       "      <th>1</th>\n",
       "      <td>2acmU</td>\n",
       "      <td>1.334711</td>\n",
       "      <td>-0.340164</td>\n",
       "      <td>4.365080</td>\n",
       "      <td>73.037750</td>\n",
       "    </tr>\n",
       "    <tr>\n",
       "      <th>2</th>\n",
       "      <td>409Wp</td>\n",
       "      <td>1.022732</td>\n",
       "      <td>0.151990</td>\n",
       "      <td>1.419926</td>\n",
       "      <td>85.265647</td>\n",
       "    </tr>\n",
       "    <tr>\n",
       "      <th>3</th>\n",
       "      <td>iJLyR</td>\n",
       "      <td>-0.032172</td>\n",
       "      <td>0.139033</td>\n",
       "      <td>2.978566</td>\n",
       "      <td>168.620776</td>\n",
       "    </tr>\n",
       "    <tr>\n",
       "      <th>4</th>\n",
       "      <td>Xdl7t</td>\n",
       "      <td>1.988431</td>\n",
       "      <td>0.155413</td>\n",
       "      <td>4.751769</td>\n",
       "      <td>154.036647</td>\n",
       "    </tr>\n",
       "  </tbody>\n",
       "</table>\n",
       "</div>"
      ],
      "text/plain": [
       "      id        f0        f1        f2     product\n",
       "0  txEyH  0.705745 -0.497823  1.221170  105.280062\n",
       "1  2acmU  1.334711 -0.340164  4.365080   73.037750\n",
       "2  409Wp  1.022732  0.151990  1.419926   85.265647\n",
       "3  iJLyR -0.032172  0.139033  2.978566  168.620776\n",
       "4  Xdl7t  1.988431  0.155413  4.751769  154.036647"
      ]
     },
     "execution_count": 3,
     "metadata": {},
     "output_type": "execute_result"
    }
   ],
   "source": [
    "geo_data_0.head()"
   ]
  },
  {
   "cell_type": "code",
   "execution_count": 4,
   "metadata": {},
   "outputs": [
    {
     "data": {
      "text/html": [
       "<div>\n",
       "<style scoped>\n",
       "    .dataframe tbody tr th:only-of-type {\n",
       "        vertical-align: middle;\n",
       "    }\n",
       "\n",
       "    .dataframe tbody tr th {\n",
       "        vertical-align: top;\n",
       "    }\n",
       "\n",
       "    .dataframe thead th {\n",
       "        text-align: right;\n",
       "    }\n",
       "</style>\n",
       "<table border=\"1\" class=\"dataframe\">\n",
       "  <thead>\n",
       "    <tr style=\"text-align: right;\">\n",
       "      <th></th>\n",
       "      <th>id</th>\n",
       "      <th>f0</th>\n",
       "      <th>f1</th>\n",
       "      <th>f2</th>\n",
       "      <th>product</th>\n",
       "    </tr>\n",
       "  </thead>\n",
       "  <tbody>\n",
       "    <tr>\n",
       "      <th>0</th>\n",
       "      <td>kBEdx</td>\n",
       "      <td>-15.001348</td>\n",
       "      <td>-8.276000</td>\n",
       "      <td>-0.005876</td>\n",
       "      <td>3.179103</td>\n",
       "    </tr>\n",
       "    <tr>\n",
       "      <th>1</th>\n",
       "      <td>62mP7</td>\n",
       "      <td>14.272088</td>\n",
       "      <td>-3.475083</td>\n",
       "      <td>0.999183</td>\n",
       "      <td>26.953261</td>\n",
       "    </tr>\n",
       "    <tr>\n",
       "      <th>2</th>\n",
       "      <td>vyE1P</td>\n",
       "      <td>6.263187</td>\n",
       "      <td>-5.948386</td>\n",
       "      <td>5.001160</td>\n",
       "      <td>134.766305</td>\n",
       "    </tr>\n",
       "    <tr>\n",
       "      <th>3</th>\n",
       "      <td>KcrkZ</td>\n",
       "      <td>-13.081196</td>\n",
       "      <td>-11.506057</td>\n",
       "      <td>4.999415</td>\n",
       "      <td>137.945408</td>\n",
       "    </tr>\n",
       "    <tr>\n",
       "      <th>4</th>\n",
       "      <td>AHL4O</td>\n",
       "      <td>12.702195</td>\n",
       "      <td>-8.147433</td>\n",
       "      <td>5.004363</td>\n",
       "      <td>134.766305</td>\n",
       "    </tr>\n",
       "  </tbody>\n",
       "</table>\n",
       "</div>"
      ],
      "text/plain": [
       "      id         f0         f1        f2     product\n",
       "0  kBEdx -15.001348  -8.276000 -0.005876    3.179103\n",
       "1  62mP7  14.272088  -3.475083  0.999183   26.953261\n",
       "2  vyE1P   6.263187  -5.948386  5.001160  134.766305\n",
       "3  KcrkZ -13.081196 -11.506057  4.999415  137.945408\n",
       "4  AHL4O  12.702195  -8.147433  5.004363  134.766305"
      ]
     },
     "execution_count": 4,
     "metadata": {},
     "output_type": "execute_result"
    }
   ],
   "source": [
    "geo_data_1.head()"
   ]
  },
  {
   "cell_type": "code",
   "execution_count": 5,
   "metadata": {},
   "outputs": [
    {
     "data": {
      "text/html": [
       "<div>\n",
       "<style scoped>\n",
       "    .dataframe tbody tr th:only-of-type {\n",
       "        vertical-align: middle;\n",
       "    }\n",
       "\n",
       "    .dataframe tbody tr th {\n",
       "        vertical-align: top;\n",
       "    }\n",
       "\n",
       "    .dataframe thead th {\n",
       "        text-align: right;\n",
       "    }\n",
       "</style>\n",
       "<table border=\"1\" class=\"dataframe\">\n",
       "  <thead>\n",
       "    <tr style=\"text-align: right;\">\n",
       "      <th></th>\n",
       "      <th>id</th>\n",
       "      <th>f0</th>\n",
       "      <th>f1</th>\n",
       "      <th>f2</th>\n",
       "      <th>product</th>\n",
       "    </tr>\n",
       "  </thead>\n",
       "  <tbody>\n",
       "    <tr>\n",
       "      <th>0</th>\n",
       "      <td>fwXo0</td>\n",
       "      <td>-1.146987</td>\n",
       "      <td>0.963328</td>\n",
       "      <td>-0.828965</td>\n",
       "      <td>27.758673</td>\n",
       "    </tr>\n",
       "    <tr>\n",
       "      <th>1</th>\n",
       "      <td>WJtFt</td>\n",
       "      <td>0.262778</td>\n",
       "      <td>0.269839</td>\n",
       "      <td>-2.530187</td>\n",
       "      <td>56.069697</td>\n",
       "    </tr>\n",
       "    <tr>\n",
       "      <th>2</th>\n",
       "      <td>ovLUW</td>\n",
       "      <td>0.194587</td>\n",
       "      <td>0.289035</td>\n",
       "      <td>-5.586433</td>\n",
       "      <td>62.871910</td>\n",
       "    </tr>\n",
       "    <tr>\n",
       "      <th>3</th>\n",
       "      <td>q6cA6</td>\n",
       "      <td>2.236060</td>\n",
       "      <td>-0.553760</td>\n",
       "      <td>0.930038</td>\n",
       "      <td>114.572842</td>\n",
       "    </tr>\n",
       "    <tr>\n",
       "      <th>4</th>\n",
       "      <td>WPMUX</td>\n",
       "      <td>-0.515993</td>\n",
       "      <td>1.716266</td>\n",
       "      <td>5.899011</td>\n",
       "      <td>149.600746</td>\n",
       "    </tr>\n",
       "  </tbody>\n",
       "</table>\n",
       "</div>"
      ],
      "text/plain": [
       "      id        f0        f1        f2     product\n",
       "0  fwXo0 -1.146987  0.963328 -0.828965   27.758673\n",
       "1  WJtFt  0.262778  0.269839 -2.530187   56.069697\n",
       "2  ovLUW  0.194587  0.289035 -5.586433   62.871910\n",
       "3  q6cA6  2.236060 -0.553760  0.930038  114.572842\n",
       "4  WPMUX -0.515993  1.716266  5.899011  149.600746"
      ]
     },
     "execution_count": 5,
     "metadata": {},
     "output_type": "execute_result"
    }
   ],
   "source": [
    "geo_data_2.head()"
   ]
  },
  {
   "cell_type": "markdown",
   "metadata": {},
   "source": [
    "### Информация о данных и проверка на пропуски"
   ]
  },
  {
   "cell_type": "code",
   "execution_count": 6,
   "metadata": {},
   "outputs": [
    {
     "name": "stdout",
     "output_type": "stream",
     "text": [
      "<class 'pandas.core.frame.DataFrame'>\n",
      "RangeIndex: 100000 entries, 0 to 99999\n",
      "Data columns (total 5 columns):\n",
      " #   Column   Non-Null Count   Dtype  \n",
      "---  ------   --------------   -----  \n",
      " 0   id       100000 non-null  object \n",
      " 1   f0       100000 non-null  float64\n",
      " 2   f1       100000 non-null  float64\n",
      " 3   f2       100000 non-null  float64\n",
      " 4   product  100000 non-null  float64\n",
      "dtypes: float64(4), object(1)\n",
      "memory usage: 3.8+ MB\n"
     ]
    }
   ],
   "source": [
    "geo_data_0.info()"
   ]
  },
  {
   "cell_type": "code",
   "execution_count": 7,
   "metadata": {},
   "outputs": [
    {
     "name": "stdout",
     "output_type": "stream",
     "text": [
      "<class 'pandas.core.frame.DataFrame'>\n",
      "RangeIndex: 100000 entries, 0 to 99999\n",
      "Data columns (total 5 columns):\n",
      " #   Column   Non-Null Count   Dtype  \n",
      "---  ------   --------------   -----  \n",
      " 0   id       100000 non-null  object \n",
      " 1   f0       100000 non-null  float64\n",
      " 2   f1       100000 non-null  float64\n",
      " 3   f2       100000 non-null  float64\n",
      " 4   product  100000 non-null  float64\n",
      "dtypes: float64(4), object(1)\n",
      "memory usage: 3.8+ MB\n"
     ]
    }
   ],
   "source": [
    "geo_data_1.info()"
   ]
  },
  {
   "cell_type": "code",
   "execution_count": 8,
   "metadata": {},
   "outputs": [
    {
     "name": "stdout",
     "output_type": "stream",
     "text": [
      "<class 'pandas.core.frame.DataFrame'>\n",
      "RangeIndex: 100000 entries, 0 to 99999\n",
      "Data columns (total 5 columns):\n",
      " #   Column   Non-Null Count   Dtype  \n",
      "---  ------   --------------   -----  \n",
      " 0   id       100000 non-null  object \n",
      " 1   f0       100000 non-null  float64\n",
      " 2   f1       100000 non-null  float64\n",
      " 3   f2       100000 non-null  float64\n",
      " 4   product  100000 non-null  float64\n",
      "dtypes: float64(4), object(1)\n",
      "memory usage: 3.8+ MB\n"
     ]
    }
   ],
   "source": [
    "geo_data_2.info()"
   ]
  },
  {
   "cell_type": "markdown",
   "metadata": {},
   "source": [
    "Пропусков не обнаружено. Изначальные типы данных подходят для дальнейшей работы."
   ]
  },
  {
   "cell_type": "markdown",
   "metadata": {},
   "source": [
    "### Поиск дубликатов"
   ]
  },
  {
   "cell_type": "markdown",
   "metadata": {},
   "source": [
    "Поиск дубликатов по id"
   ]
  },
  {
   "cell_type": "code",
   "execution_count": 9,
   "metadata": {},
   "outputs": [
    {
     "data": {
      "text/plain": [
       "10"
      ]
     },
     "execution_count": 9,
     "metadata": {},
     "output_type": "execute_result"
    }
   ],
   "source": [
    "dup_0 = geo_data_0.duplicated(subset=['id']).sum()\n",
    "dup_0"
   ]
  },
  {
   "cell_type": "code",
   "execution_count": 10,
   "metadata": {},
   "outputs": [
    {
     "data": {
      "text/plain": [
       "4"
      ]
     },
     "execution_count": 10,
     "metadata": {},
     "output_type": "execute_result"
    }
   ],
   "source": [
    "dup_1 = geo_data_1.duplicated(subset=['id']).sum()\n",
    "dup_1"
   ]
  },
  {
   "cell_type": "code",
   "execution_count": 11,
   "metadata": {},
   "outputs": [
    {
     "data": {
      "text/plain": [
       "4"
      ]
     },
     "execution_count": 11,
     "metadata": {},
     "output_type": "execute_result"
    }
   ],
   "source": [
    "dup_2 = geo_data_2.duplicated(subset=['id']).sum()\n",
    "dup_2"
   ]
  },
  {
   "cell_type": "code",
   "execution_count": 12,
   "metadata": {},
   "outputs": [],
   "source": [
    "geo_data_0.drop_duplicates(subset=['id'],inplace=True)\n",
    "geo_data_1.drop_duplicates(subset=['id'],inplace=True)\n",
    "geo_data_2.drop_duplicates(subset=['id'],inplace=True)"
   ]
  },
  {
   "cell_type": "markdown",
   "metadata": {},
   "source": [
    "___Вывод по исзодным данным и преобработке___: Изначально данные были практически готовы для использования моделей машинного обучения. Были удалены дубликаты по столбцу id в рамках подготовки данных"
   ]
  },
  {
   "cell_type": "markdown",
   "metadata": {},
   "source": [
    "### Корреляция признаков "
   ]
  },
  {
   "cell_type": "code",
   "execution_count": 15,
   "metadata": {},
   "outputs": [
    {
     "name": "stdout",
     "output_type": "stream",
     "text": [
      "interval columns not set, guessing: ['f0', 'f1', 'f2', 'product']\n"
     ]
    },
    {
     "data": {
      "text/html": [
       "<style  type=\"text/css\" >\n",
       "#T_ae766_row0_col0,#T_ae766_row1_col0,#T_ae766_row1_col3,#T_ae766_row1_col4,#T_ae766_row2_col0,#T_ae766_row2_col3,#T_ae766_row3_col0,#T_ae766_row3_col1,#T_ae766_row3_col2,#T_ae766_row4_col0{\n",
       "            background-color:  #3b4cc0;\n",
       "            color:  #f1f1f1;\n",
       "        }#T_ae766_row0_col1,#T_ae766_row0_col2,#T_ae766_row0_col3,#T_ae766_row0_col4,#T_ae766_row1_col1,#T_ae766_row2_col2,#T_ae766_row3_col3,#T_ae766_row4_col4{\n",
       "            background-color:  #b40426;\n",
       "            color:  #f1f1f1;\n",
       "        }#T_ae766_row1_col2,#T_ae766_row2_col1{\n",
       "            background-color:  #f39475;\n",
       "            color:  #000000;\n",
       "        }#T_ae766_row2_col4{\n",
       "            background-color:  #4961d2;\n",
       "            color:  #f1f1f1;\n",
       "        }#T_ae766_row3_col4{\n",
       "            background-color:  #a9c6fd;\n",
       "            color:  #000000;\n",
       "        }#T_ae766_row4_col1{\n",
       "            background-color:  #81a4fb;\n",
       "            color:  #000000;\n",
       "        }#T_ae766_row4_col2{\n",
       "            background-color:  #8db0fe;\n",
       "            color:  #000000;\n",
       "        }#T_ae766_row4_col3{\n",
       "            background-color:  #d6dce4;\n",
       "            color:  #000000;\n",
       "        }</style><table id=\"T_ae766_\" ><thead>    <tr>        <th class=\"blank level0\" ></th>        <th class=\"col_heading level0 col0\" >id</th>        <th class=\"col_heading level0 col1\" >f0</th>        <th class=\"col_heading level0 col2\" >f1</th>        <th class=\"col_heading level0 col3\" >f2</th>        <th class=\"col_heading level0 col4\" >product</th>    </tr></thead><tbody>\n",
       "                <tr>\n",
       "                        <th id=\"T_ae766_level0_row0\" class=\"row_heading level0 row0\" >id</th>\n",
       "                        <td id=\"T_ae766_row0_col0\" class=\"data row0 col0\" >1.000000</td>\n",
       "                        <td id=\"T_ae766_row0_col1\" class=\"data row0 col1\" >1.000000</td>\n",
       "                        <td id=\"T_ae766_row0_col2\" class=\"data row0 col2\" >1.000000</td>\n",
       "                        <td id=\"T_ae766_row0_col3\" class=\"data row0 col3\" >1.000000</td>\n",
       "                        <td id=\"T_ae766_row0_col4\" class=\"data row0 col4\" >1.000000</td>\n",
       "            </tr>\n",
       "            <tr>\n",
       "                        <th id=\"T_ae766_level0_row1\" class=\"row_heading level0 row1\" >f0</th>\n",
       "                        <td id=\"T_ae766_row1_col0\" class=\"data row1 col0\" >1.000000</td>\n",
       "                        <td id=\"T_ae766_row1_col1\" class=\"data row1 col1\" >1.000000</td>\n",
       "                        <td id=\"T_ae766_row1_col2\" class=\"data row1 col2\" >0.762181</td>\n",
       "                        <td id=\"T_ae766_row1_col3\" class=\"data row1 col3\" >0.000000</td>\n",
       "                        <td id=\"T_ae766_row1_col4\" class=\"data row1 col4\" >0.215523</td>\n",
       "            </tr>\n",
       "            <tr>\n",
       "                        <th id=\"T_ae766_level0_row2\" class=\"row_heading level0 row2\" >f1</th>\n",
       "                        <td id=\"T_ae766_row2_col0\" class=\"data row2 col0\" >1.000000</td>\n",
       "                        <td id=\"T_ae766_row2_col1\" class=\"data row2 col1\" >0.762181</td>\n",
       "                        <td id=\"T_ae766_row2_col2\" class=\"data row2 col2\" >1.000000</td>\n",
       "                        <td id=\"T_ae766_row2_col3\" class=\"data row2 col3\" >0.000000</td>\n",
       "                        <td id=\"T_ae766_row2_col4\" class=\"data row2 col4\" >0.253534</td>\n",
       "            </tr>\n",
       "            <tr>\n",
       "                        <th id=\"T_ae766_level0_row3\" class=\"row_heading level0 row3\" >f2</th>\n",
       "                        <td id=\"T_ae766_row3_col0\" class=\"data row3 col0\" >1.000000</td>\n",
       "                        <td id=\"T_ae766_row3_col1\" class=\"data row3 col1\" >0.000000</td>\n",
       "                        <td id=\"T_ae766_row3_col2\" class=\"data row3 col2\" >0.000000</td>\n",
       "                        <td id=\"T_ae766_row3_col3\" class=\"data row3 col3\" >1.000000</td>\n",
       "                        <td id=\"T_ae766_row3_col4\" class=\"data row3 col4\" >0.475867</td>\n",
       "            </tr>\n",
       "            <tr>\n",
       "                        <th id=\"T_ae766_level0_row4\" class=\"row_heading level0 row4\" >product</th>\n",
       "                        <td id=\"T_ae766_row4_col0\" class=\"data row4 col0\" >1.000000</td>\n",
       "                        <td id=\"T_ae766_row4_col1\" class=\"data row4 col1\" >0.215523</td>\n",
       "                        <td id=\"T_ae766_row4_col2\" class=\"data row4 col2\" >0.253534</td>\n",
       "                        <td id=\"T_ae766_row4_col3\" class=\"data row4 col3\" >0.475867</td>\n",
       "                        <td id=\"T_ae766_row4_col4\" class=\"data row4 col4\" >1.000000</td>\n",
       "            </tr>\n",
       "    </tbody></table>"
      ],
      "text/plain": [
       "<pandas.io.formats.style.Styler at 0x7fd4d97a9610>"
      ]
     },
     "execution_count": 15,
     "metadata": {},
     "output_type": "execute_result"
    }
   ],
   "source": [
    "geo_data_0_phik = geo_data_0\n",
    "geo_data_0_phik.phik_matrix().style.background_gradient(cmap='coolwarm')"
   ]
  },
  {
   "cell_type": "code",
   "execution_count": 16,
   "metadata": {},
   "outputs": [
    {
     "name": "stdout",
     "output_type": "stream",
     "text": [
      "interval columns not set, guessing: ['f0', 'f1', 'f2', 'product']\n"
     ]
    },
    {
     "data": {
      "text/html": [
       "<style  type=\"text/css\" >\n",
       "#T_345f7_row0_col0,#T_345f7_row1_col0,#T_345f7_row1_col3,#T_345f7_row2_col0,#T_345f7_row2_col3,#T_345f7_row2_col4,#T_345f7_row3_col0,#T_345f7_row3_col1,#T_345f7_row3_col2,#T_345f7_row4_col0{\n",
       "            background-color:  #3b4cc0;\n",
       "            color:  #f1f1f1;\n",
       "        }#T_345f7_row0_col1,#T_345f7_row0_col2,#T_345f7_row0_col3,#T_345f7_row0_col4,#T_345f7_row1_col1,#T_345f7_row2_col2,#T_345f7_row3_col3,#T_345f7_row4_col4{\n",
       "            background-color:  #b40426;\n",
       "            color:  #f1f1f1;\n",
       "        }#T_345f7_row1_col2,#T_345f7_row2_col1{\n",
       "            background-color:  #7a9df8;\n",
       "            color:  #000000;\n",
       "        }#T_345f7_row1_col4{\n",
       "            background-color:  #e8d6cc;\n",
       "            color:  #000000;\n",
       "        }#T_345f7_row3_col4{\n",
       "            background-color:  #bd1f2d;\n",
       "            color:  #f1f1f1;\n",
       "        }#T_345f7_row4_col1{\n",
       "            background-color:  #f5c4ac;\n",
       "            color:  #000000;\n",
       "        }#T_345f7_row4_col2{\n",
       "            background-color:  #7699f6;\n",
       "            color:  #000000;\n",
       "        }#T_345f7_row4_col3{\n",
       "            background-color:  #bb1b2c;\n",
       "            color:  #f1f1f1;\n",
       "        }</style><table id=\"T_345f7_\" ><thead>    <tr>        <th class=\"blank level0\" ></th>        <th class=\"col_heading level0 col0\" >id</th>        <th class=\"col_heading level0 col1\" >f0</th>        <th class=\"col_heading level0 col2\" >f1</th>        <th class=\"col_heading level0 col3\" >f2</th>        <th class=\"col_heading level0 col4\" >product</th>    </tr></thead><tbody>\n",
       "                <tr>\n",
       "                        <th id=\"T_345f7_level0_row0\" class=\"row_heading level0 row0\" >id</th>\n",
       "                        <td id=\"T_345f7_row0_col0\" class=\"data row0 col0\" >1.000000</td>\n",
       "                        <td id=\"T_345f7_row0_col1\" class=\"data row0 col1\" >1.000000</td>\n",
       "                        <td id=\"T_345f7_row0_col2\" class=\"data row0 col2\" >1.000000</td>\n",
       "                        <td id=\"T_345f7_row0_col3\" class=\"data row0 col3\" >1.000000</td>\n",
       "                        <td id=\"T_345f7_row0_col4\" class=\"data row0 col4\" >1.000000</td>\n",
       "            </tr>\n",
       "            <tr>\n",
       "                        <th id=\"T_345f7_level0_row1\" class=\"row_heading level0 row1\" >f0</th>\n",
       "                        <td id=\"T_345f7_row1_col0\" class=\"data row1 col0\" >1.000000</td>\n",
       "                        <td id=\"T_345f7_row1_col1\" class=\"data row1 col1\" >1.000000</td>\n",
       "                        <td id=\"T_345f7_row1_col2\" class=\"data row1 col2\" >0.196075</td>\n",
       "                        <td id=\"T_345f7_row1_col3\" class=\"data row1 col3\" >0.000000</td>\n",
       "                        <td id=\"T_345f7_row1_col4\" class=\"data row1 col4\" >0.628477</td>\n",
       "            </tr>\n",
       "            <tr>\n",
       "                        <th id=\"T_345f7_level0_row2\" class=\"row_heading level0 row2\" >f1</th>\n",
       "                        <td id=\"T_345f7_row2_col0\" class=\"data row2 col0\" >1.000000</td>\n",
       "                        <td id=\"T_345f7_row2_col1\" class=\"data row2 col1\" >0.196075</td>\n",
       "                        <td id=\"T_345f7_row2_col2\" class=\"data row2 col2\" >1.000000</td>\n",
       "                        <td id=\"T_345f7_row2_col3\" class=\"data row2 col3\" >0.000000</td>\n",
       "                        <td id=\"T_345f7_row2_col4\" class=\"data row2 col4\" >0.185948</td>\n",
       "            </tr>\n",
       "            <tr>\n",
       "                        <th id=\"T_345f7_level0_row3\" class=\"row_heading level0 row3\" >f2</th>\n",
       "                        <td id=\"T_345f7_row3_col0\" class=\"data row3 col0\" >1.000000</td>\n",
       "                        <td id=\"T_345f7_row3_col1\" class=\"data row3 col1\" >0.000000</td>\n",
       "                        <td id=\"T_345f7_row3_col2\" class=\"data row3 col2\" >0.000000</td>\n",
       "                        <td id=\"T_345f7_row3_col3\" class=\"data row3 col3\" >1.000000</td>\n",
       "                        <td id=\"T_345f7_row3_col4\" class=\"data row3 col4\" >0.978935</td>\n",
       "            </tr>\n",
       "            <tr>\n",
       "                        <th id=\"T_345f7_level0_row4\" class=\"row_heading level0 row4\" >product</th>\n",
       "                        <td id=\"T_345f7_row4_col0\" class=\"data row4 col0\" >1.000000</td>\n",
       "                        <td id=\"T_345f7_row4_col1\" class=\"data row4 col1\" >0.628477</td>\n",
       "                        <td id=\"T_345f7_row4_col2\" class=\"data row4 col2\" >0.185948</td>\n",
       "                        <td id=\"T_345f7_row4_col3\" class=\"data row4 col3\" >0.978935</td>\n",
       "                        <td id=\"T_345f7_row4_col4\" class=\"data row4 col4\" >1.000000</td>\n",
       "            </tr>\n",
       "    </tbody></table>"
      ],
      "text/plain": [
       "<pandas.io.formats.style.Styler at 0x7fd46f4fd8b0>"
      ]
     },
     "execution_count": 16,
     "metadata": {},
     "output_type": "execute_result"
    }
   ],
   "source": [
    "geo_data_1_phik = geo_data_1\n",
    "geo_data_1_phik.phik_matrix().style.background_gradient(cmap='coolwarm')"
   ]
  },
  {
   "cell_type": "code",
   "execution_count": 17,
   "metadata": {},
   "outputs": [
    {
     "name": "stdout",
     "output_type": "stream",
     "text": [
      "interval columns not set, guessing: ['f0', 'f1', 'f2', 'product']\n"
     ]
    },
    {
     "data": {
      "text/html": [
       "<style  type=\"text/css\" >\n",
       "#T_c8f56_row0_col0,#T_c8f56_row1_col0,#T_c8f56_row1_col2,#T_c8f56_row1_col3,#T_c8f56_row1_col4,#T_c8f56_row2_col0,#T_c8f56_row2_col1,#T_c8f56_row2_col3,#T_c8f56_row3_col0,#T_c8f56_row3_col1,#T_c8f56_row3_col2,#T_c8f56_row4_col0{\n",
       "            background-color:  #3b4cc0;\n",
       "            color:  #f1f1f1;\n",
       "        }#T_c8f56_row0_col1,#T_c8f56_row0_col2,#T_c8f56_row0_col3,#T_c8f56_row0_col4,#T_c8f56_row1_col1,#T_c8f56_row2_col2,#T_c8f56_row3_col3,#T_c8f56_row4_col4{\n",
       "            background-color:  #b40426;\n",
       "            color:  #f1f1f1;\n",
       "        }#T_c8f56_row2_col4{\n",
       "            background-color:  #4257c9;\n",
       "            color:  #f1f1f1;\n",
       "        }#T_c8f56_row3_col4{\n",
       "            background-color:  #9fbfff;\n",
       "            color:  #000000;\n",
       "        }#T_c8f56_row4_col1{\n",
       "            background-color:  #7b9ff9;\n",
       "            color:  #000000;\n",
       "        }#T_c8f56_row4_col2{\n",
       "            background-color:  #82a6fb;\n",
       "            color:  #000000;\n",
       "        }#T_c8f56_row4_col3{\n",
       "            background-color:  #cdd9ec;\n",
       "            color:  #000000;\n",
       "        }</style><table id=\"T_c8f56_\" ><thead>    <tr>        <th class=\"blank level0\" ></th>        <th class=\"col_heading level0 col0\" >id</th>        <th class=\"col_heading level0 col1\" >f0</th>        <th class=\"col_heading level0 col2\" >f1</th>        <th class=\"col_heading level0 col3\" >f2</th>        <th class=\"col_heading level0 col4\" >product</th>    </tr></thead><tbody>\n",
       "                <tr>\n",
       "                        <th id=\"T_c8f56_level0_row0\" class=\"row_heading level0 row0\" >id</th>\n",
       "                        <td id=\"T_c8f56_row0_col0\" class=\"data row0 col0\" >1.000000</td>\n",
       "                        <td id=\"T_c8f56_row0_col1\" class=\"data row0 col1\" >1.000000</td>\n",
       "                        <td id=\"T_c8f56_row0_col2\" class=\"data row0 col2\" >1.000000</td>\n",
       "                        <td id=\"T_c8f56_row0_col3\" class=\"data row0 col3\" >1.000000</td>\n",
       "                        <td id=\"T_c8f56_row0_col4\" class=\"data row0 col4\" >1.000000</td>\n",
       "            </tr>\n",
       "            <tr>\n",
       "                        <th id=\"T_c8f56_level0_row1\" class=\"row_heading level0 row1\" >f0</th>\n",
       "                        <td id=\"T_c8f56_row1_col0\" class=\"data row1 col0\" >1.000000</td>\n",
       "                        <td id=\"T_c8f56_row1_col1\" class=\"data row1 col1\" >1.000000</td>\n",
       "                        <td id=\"T_c8f56_row1_col2\" class=\"data row1 col2\" >0.000000</td>\n",
       "                        <td id=\"T_c8f56_row1_col3\" class=\"data row1 col3\" >0.000000</td>\n",
       "                        <td id=\"T_c8f56_row1_col4\" class=\"data row1 col4\" >0.201070</td>\n",
       "            </tr>\n",
       "            <tr>\n",
       "                        <th id=\"T_c8f56_level0_row2\" class=\"row_heading level0 row2\" >f1</th>\n",
       "                        <td id=\"T_c8f56_row2_col0\" class=\"data row2 col0\" >1.000000</td>\n",
       "                        <td id=\"T_c8f56_row2_col1\" class=\"data row2 col1\" >0.000000</td>\n",
       "                        <td id=\"T_c8f56_row2_col2\" class=\"data row2 col2\" >1.000000</td>\n",
       "                        <td id=\"T_c8f56_row2_col3\" class=\"data row2 col3\" >0.000000</td>\n",
       "                        <td id=\"T_c8f56_row2_col4\" class=\"data row2 col4\" >0.220992</td>\n",
       "            </tr>\n",
       "            <tr>\n",
       "                        <th id=\"T_c8f56_level0_row3\" class=\"row_heading level0 row3\" >f2</th>\n",
       "                        <td id=\"T_c8f56_row3_col0\" class=\"data row3 col0\" >1.000000</td>\n",
       "                        <td id=\"T_c8f56_row3_col1\" class=\"data row3 col1\" >0.000000</td>\n",
       "                        <td id=\"T_c8f56_row3_col2\" class=\"data row3 col2\" >0.000000</td>\n",
       "                        <td id=\"T_c8f56_row3_col3\" class=\"data row3 col3\" >1.000000</td>\n",
       "                        <td id=\"T_c8f56_row3_col4\" class=\"data row3 col4\" >0.443282</td>\n",
       "            </tr>\n",
       "            <tr>\n",
       "                        <th id=\"T_c8f56_level0_row4\" class=\"row_heading level0 row4\" >product</th>\n",
       "                        <td id=\"T_c8f56_row4_col0\" class=\"data row4 col0\" >1.000000</td>\n",
       "                        <td id=\"T_c8f56_row4_col1\" class=\"data row4 col1\" >0.201070</td>\n",
       "                        <td id=\"T_c8f56_row4_col2\" class=\"data row4 col2\" >0.220992</td>\n",
       "                        <td id=\"T_c8f56_row4_col3\" class=\"data row4 col3\" >0.443282</td>\n",
       "                        <td id=\"T_c8f56_row4_col4\" class=\"data row4 col4\" >1.000000</td>\n",
       "            </tr>\n",
       "    </tbody></table>"
      ],
      "text/plain": [
       "<pandas.io.formats.style.Styler at 0x7fd47069bdf0>"
      ]
     },
     "execution_count": 17,
     "metadata": {},
     "output_type": "execute_result"
    }
   ],
   "source": [
    "geo_data_2_phik = geo_data_2\n",
    "geo_data_2_phik.phik_matrix().style.background_gradient(cmap='coolwarm')"
   ]
  },
  {
   "cell_type": "markdown",
   "metadata": {},
   "source": [
    "___Вывод о корреляционном анализе___: В таблицах выше можно усмортеть корреляцию между входными признаками. Тем не менее в дальнейшем обучении мы должны использлвать все признаки из имеющихся."
   ]
  },
  {
   "cell_type": "code",
   "execution_count": 18,
   "metadata": {},
   "outputs": [
    {
     "data": {
      "image/png": "[encoded data removed]",
      "text/plain": [
       "<Figure size 720x432 with 1 Axes>"
      ]
     },
     "metadata": {
      "needs_background": "light"
     },
     "output_type": "display_data"
    }
   ],
   "source": [
    "selected_columns = ['f0', 'f1', 'f2']\n",
    "\n",
    "plt.figure(figsize=(10, 6))  \n",
    "geo_data_0[selected_columns].boxplot(vert=False)  \n",
    "plt.xticks(rotation=90) \n",
    "plt.tight_layout() \n",
    "plt.show()  "
   ]
  },
  {
   "cell_type": "code",
   "execution_count": 19,
   "metadata": {},
   "outputs": [
    {
     "data": {
      "image/png": "[encoded data removed]",
      "text/plain": [
       "<Figure size 720x432 with 1 Axes>"
      ]
     },
     "metadata": {
      "needs_background": "light"
     },
     "output_type": "display_data"
    }
   ],
   "source": [
    "plt.figure(figsize=(10, 6))  \n",
    "geo_data_1[selected_columns].boxplot(vert=False)  \n",
    "plt.xticks(rotation=90) \n",
    "plt.tight_layout() \n",
    "plt.show()  "
   ]
  },
  {
   "cell_type": "code",
   "execution_count": 20,
   "metadata": {},
   "outputs": [
    {
     "data": {
      "image/png": "[encoded data removed]",
      "text/plain": [
       "<Figure size 720x432 with 1 Axes>"
      ]
     },
     "metadata": {
      "needs_background": "light"
     },
     "output_type": "display_data"
    }
   ],
   "source": [
    "plt.figure(figsize=(10, 6))  \n",
    "geo_data_2[selected_columns].boxplot(vert=False)  \n",
    "plt.xticks(rotation=90) \n",
    "plt.tight_layout() \n",
    "plt.show()  "
   ]
  },
  {
   "cell_type": "markdown",
   "metadata": {},
   "source": [
    "___Замечание по диаграмам размаха данных___: Примечательно, что выбросы в разных датасетах имеют разный характер. Здесь наверное кроется различие этих регионов."
   ]
  },
  {
   "cell_type": "markdown",
   "metadata": {},
   "source": [
    "## Обучение и проверка модели"
   ]
  },
  {
   "cell_type": "markdown",
   "metadata": {},
   "source": [
    "### Первый регион"
   ]
  },
  {
   "cell_type": "code",
   "execution_count": 21,
   "metadata": {},
   "outputs": [],
   "source": [
    "RANDOM_STATE = 78\n",
    "TEST_SIZE = 0.25\n",
    "\n",
    "train0_data = geo_data_0.drop(columns=['id','product'])\n",
    "val0_data = geo_data_0['product']\n",
    "X0_train, X0_val, y0_train, y0_val = train_test_split(train0_data,val0_data, test_size=TEST_SIZE, random_state=RANDOM_STATE)\n"
   ]
  },
  {
   "cell_type": "code",
   "execution_count": 22,
   "metadata": {},
   "outputs": [
    {
     "data": {
      "text/plain": [
       "LinearRegression()"
      ]
     },
     "execution_count": 22,
     "metadata": {},
     "output_type": "execute_result"
    }
   ],
   "source": [
    "model0 = LinearRegression()\n",
    "model0.fit(X0_train, y0_train)"
   ]
  },
  {
   "cell_type": "code",
   "execution_count": 23,
   "metadata": {},
   "outputs": [],
   "source": [
    "y0_val_pred = model0.predict(X0_val)"
   ]
  },
  {
   "cell_type": "code",
   "execution_count": 24,
   "metadata": {},
   "outputs": [
    {
     "name": "stdout",
     "output_type": "stream",
     "text": [
      "RMSE на валидационной выборке первого региона: 37.65675849821365\n"
     ]
    }
   ],
   "source": [
    "rmse_0 = np.sqrt(mean_squared_error(y0_val, y0_val_pred))\n",
    "print(f'RMSE на валидационной выборке первого региона: {rmse_0}')"
   ]
  },
  {
   "cell_type": "code",
   "execution_count": 25,
   "metadata": {},
   "outputs": [],
   "source": [
    "y0_val_df = y0_val.to_frame()"
   ]
  },
  {
   "cell_type": "code",
   "execution_count": 26,
   "metadata": {},
   "outputs": [],
   "source": [
    "y0_val_df['predict_product'] = y0_val_pred"
   ]
  },
  {
   "cell_type": "code",
   "execution_count": 27,
   "metadata": {},
   "outputs": [
    {
     "data": {
      "text/html": [
       "<div>\n",
       "<style scoped>\n",
       "    .dataframe tbody tr th:only-of-type {\n",
       "        vertical-align: middle;\n",
       "    }\n",
       "\n",
       "    .dataframe tbody tr th {\n",
       "        vertical-align: top;\n",
       "    }\n",
       "\n",
       "    .dataframe thead th {\n",
       "        text-align: right;\n",
       "    }\n",
       "</style>\n",
       "<table border=\"1\" class=\"dataframe\">\n",
       "  <thead>\n",
       "    <tr style=\"text-align: right;\">\n",
       "      <th></th>\n",
       "      <th>product</th>\n",
       "      <th>predict_product</th>\n",
       "    </tr>\n",
       "  </thead>\n",
       "  <tbody>\n",
       "    <tr>\n",
       "      <th>90958</th>\n",
       "      <td>25.392967</td>\n",
       "      <td>62.739871</td>\n",
       "    </tr>\n",
       "    <tr>\n",
       "      <th>47745</th>\n",
       "      <td>129.181041</td>\n",
       "      <td>100.500418</td>\n",
       "    </tr>\n",
       "    <tr>\n",
       "      <th>52089</th>\n",
       "      <td>185.164292</td>\n",
       "      <td>108.176557</td>\n",
       "    </tr>\n",
       "    <tr>\n",
       "      <th>86725</th>\n",
       "      <td>144.217666</td>\n",
       "      <td>118.953082</td>\n",
       "    </tr>\n",
       "    <tr>\n",
       "      <th>70807</th>\n",
       "      <td>24.155853</td>\n",
       "      <td>96.582534</td>\n",
       "    </tr>\n",
       "    <tr>\n",
       "      <th>...</th>\n",
       "      <td>...</td>\n",
       "      <td>...</td>\n",
       "    </tr>\n",
       "    <tr>\n",
       "      <th>98325</th>\n",
       "      <td>28.738095</td>\n",
       "      <td>77.041451</td>\n",
       "    </tr>\n",
       "    <tr>\n",
       "      <th>92661</th>\n",
       "      <td>131.757453</td>\n",
       "      <td>114.165929</td>\n",
       "    </tr>\n",
       "    <tr>\n",
       "      <th>85096</th>\n",
       "      <td>121.238879</td>\n",
       "      <td>125.489041</td>\n",
       "    </tr>\n",
       "    <tr>\n",
       "      <th>39830</th>\n",
       "      <td>65.986891</td>\n",
       "      <td>99.093966</td>\n",
       "    </tr>\n",
       "    <tr>\n",
       "      <th>99642</th>\n",
       "      <td>93.192167</td>\n",
       "      <td>105.284180</td>\n",
       "    </tr>\n",
       "  </tbody>\n",
       "</table>\n",
       "<p>24998 rows × 2 columns</p>\n",
       "</div>"
      ],
      "text/plain": [
       "          product  predict_product\n",
       "90958   25.392967        62.739871\n",
       "47745  129.181041       100.500418\n",
       "52089  185.164292       108.176557\n",
       "86725  144.217666       118.953082\n",
       "70807   24.155853        96.582534\n",
       "...           ...              ...\n",
       "98325   28.738095        77.041451\n",
       "92661  131.757453       114.165929\n",
       "85096  121.238879       125.489041\n",
       "39830   65.986891        99.093966\n",
       "99642   93.192167       105.284180\n",
       "\n",
       "[24998 rows x 2 columns]"
      ]
     },
     "execution_count": 27,
     "metadata": {},
     "output_type": "execute_result"
    }
   ],
   "source": [
    "y0_val_df"
   ]
  },
  {
   "cell_type": "markdown",
   "metadata": {},
   "source": [
    "### Второй и третий регионы"
   ]
  },
  {
   "cell_type": "markdown",
   "metadata": {},
   "source": [
    "Разделение двух остальных датасетов на тренировочные и валидационные выборки"
   ]
  },
  {
   "cell_type": "code",
   "execution_count": 28,
   "metadata": {},
   "outputs": [],
   "source": [
    "train1_data = geo_data_1.drop(columns=['id','product'])\n",
    "val1_data = geo_data_1['product']\n",
    "X1_train, X1_val, y1_train, y1_val = train_test_split(train1_data,val1_data, test_size=TEST_SIZE, random_state=RANDOM_STATE)\n",
    "\n",
    "train2_data = geo_data_2.drop(columns=['id','product'])\n",
    "val2_data = geo_data_2['product']\n",
    "X2_train, X2_val, y2_train, y2_val = train_test_split(train2_data,val2_data, test_size=TEST_SIZE, random_state=RANDOM_STATE)\n"
   ]
  },
  {
   "cell_type": "code",
   "execution_count": 29,
   "metadata": {},
   "outputs": [
    {
     "data": {
      "text/plain": [
       "LinearRegression()"
      ]
     },
     "execution_count": 29,
     "metadata": {},
     "output_type": "execute_result"
    }
   ],
   "source": [
    "model1 = LinearRegression()\n",
    "model1.fit(X1_train, y1_train)\n",
    "\n",
    "model2 = LinearRegression()\n",
    "model2.fit(X2_train, y2_train)"
   ]
  },
  {
   "cell_type": "code",
   "execution_count": 30,
   "metadata": {},
   "outputs": [],
   "source": [
    "y1_val_pred = model1.predict(X1_val)\n",
    "y2_val_pred = model2.predict(X2_val)"
   ]
  },
  {
   "cell_type": "code",
   "execution_count": 31,
   "metadata": {},
   "outputs": [],
   "source": [
    "y1_val_df = y1_val.to_frame()\n",
    "y2_val_df = y2_val.to_frame()\n",
    "\n",
    "y1_val_df['predict_product'] = y1_val_pred\n",
    "y2_val_df['predict_product'] = y2_val_pred"
   ]
  },
  {
   "cell_type": "code",
   "execution_count": 32,
   "metadata": {},
   "outputs": [
    {
     "name": "stdout",
     "output_type": "stream",
     "text": [
      "RMSE на валидационной выборке второго региона: 0.8887905369651199\n"
     ]
    }
   ],
   "source": [
    "rmse_1 = np.sqrt(mean_squared_error(y1_val, y1_val_pred))\n",
    "print(f'RMSE на валидационной выборке второго региона: {rmse_1}')"
   ]
  },
  {
   "cell_type": "code",
   "execution_count": 33,
   "metadata": {},
   "outputs": [
    {
     "name": "stdout",
     "output_type": "stream",
     "text": [
      "RMSE на валидационной выборке третьего региона: 40.12954545531487\n"
     ]
    }
   ],
   "source": [
    "rmse_2 = np.sqrt(mean_squared_error(y2_val, y2_val_pred))\n",
    "print(f'RMSE на валидационной выборке третьего региона: {rmse_2}')"
   ]
  },
  {
   "cell_type": "code",
   "execution_count": 34,
   "metadata": {},
   "outputs": [
    {
     "data": {
      "text/html": [
       "<div>\n",
       "<style scoped>\n",
       "    .dataframe tbody tr th:only-of-type {\n",
       "        vertical-align: middle;\n",
       "    }\n",
       "\n",
       "    .dataframe tbody tr th {\n",
       "        vertical-align: top;\n",
       "    }\n",
       "\n",
       "    .dataframe thead th {\n",
       "        text-align: right;\n",
       "    }\n",
       "</style>\n",
       "<table border=\"1\" class=\"dataframe\">\n",
       "  <thead>\n",
       "    <tr style=\"text-align: right;\">\n",
       "      <th></th>\n",
       "      <th>product</th>\n",
       "      <th>predict_product</th>\n",
       "    </tr>\n",
       "  </thead>\n",
       "  <tbody>\n",
       "    <tr>\n",
       "      <th>52998</th>\n",
       "      <td>3.179103</td>\n",
       "      <td>3.123287</td>\n",
       "    </tr>\n",
       "    <tr>\n",
       "      <th>86071</th>\n",
       "      <td>57.085625</td>\n",
       "      <td>57.113016</td>\n",
       "    </tr>\n",
       "    <tr>\n",
       "      <th>95170</th>\n",
       "      <td>0.000000</td>\n",
       "      <td>0.673499</td>\n",
       "    </tr>\n",
       "    <tr>\n",
       "      <th>32770</th>\n",
       "      <td>134.766305</td>\n",
       "      <td>136.996646</td>\n",
       "    </tr>\n",
       "    <tr>\n",
       "      <th>38412</th>\n",
       "      <td>84.038886</td>\n",
       "      <td>83.278436</td>\n",
       "    </tr>\n",
       "    <tr>\n",
       "      <th>2289</th>\n",
       "      <td>26.953261</td>\n",
       "      <td>26.459506</td>\n",
       "    </tr>\n",
       "    <tr>\n",
       "      <th>77488</th>\n",
       "      <td>137.945408</td>\n",
       "      <td>137.578894</td>\n",
       "    </tr>\n",
       "    <tr>\n",
       "      <th>27926</th>\n",
       "      <td>84.038886</td>\n",
       "      <td>83.788916</td>\n",
       "    </tr>\n",
       "    <tr>\n",
       "      <th>79952</th>\n",
       "      <td>134.766305</td>\n",
       "      <td>133.530453</td>\n",
       "    </tr>\n",
       "    <tr>\n",
       "      <th>93837</th>\n",
       "      <td>107.813044</td>\n",
       "      <td>108.059789</td>\n",
       "    </tr>\n",
       "  </tbody>\n",
       "</table>\n",
       "</div>"
      ],
      "text/plain": [
       "          product  predict_product\n",
       "52998    3.179103         3.123287\n",
       "86071   57.085625        57.113016\n",
       "95170    0.000000         0.673499\n",
       "32770  134.766305       136.996646\n",
       "38412   84.038886        83.278436\n",
       "2289    26.953261        26.459506\n",
       "77488  137.945408       137.578894\n",
       "27926   84.038886        83.788916\n",
       "79952  134.766305       133.530453\n",
       "93837  107.813044       108.059789"
      ]
     },
     "execution_count": 34,
     "metadata": {},
     "output_type": "execute_result"
    }
   ],
   "source": [
    "y1_val_df.head(10)"
   ]
  },
  {
   "cell_type": "code",
   "execution_count": 35,
   "metadata": {},
   "outputs": [
    {
     "data": {
      "text/html": [
       "<div>\n",
       "<style scoped>\n",
       "    .dataframe tbody tr th:only-of-type {\n",
       "        vertical-align: middle;\n",
       "    }\n",
       "\n",
       "    .dataframe tbody tr th {\n",
       "        vertical-align: top;\n",
       "    }\n",
       "\n",
       "    .dataframe thead th {\n",
       "        text-align: right;\n",
       "    }\n",
       "</style>\n",
       "<table border=\"1\" class=\"dataframe\">\n",
       "  <thead>\n",
       "    <tr style=\"text-align: right;\">\n",
       "      <th></th>\n",
       "      <th>product</th>\n",
       "      <th>predict_product</th>\n",
       "    </tr>\n",
       "  </thead>\n",
       "  <tbody>\n",
       "    <tr>\n",
       "      <th>52999</th>\n",
       "      <td>29.265796</td>\n",
       "      <td>82.500146</td>\n",
       "    </tr>\n",
       "    <tr>\n",
       "      <th>86070</th>\n",
       "      <td>113.281236</td>\n",
       "      <td>80.981803</td>\n",
       "    </tr>\n",
       "    <tr>\n",
       "      <th>95170</th>\n",
       "      <td>48.250800</td>\n",
       "      <td>90.437159</td>\n",
       "    </tr>\n",
       "    <tr>\n",
       "      <th>32770</th>\n",
       "      <td>46.902034</td>\n",
       "      <td>91.126468</td>\n",
       "    </tr>\n",
       "    <tr>\n",
       "      <th>38412</th>\n",
       "      <td>12.130536</td>\n",
       "      <td>87.835015</td>\n",
       "    </tr>\n",
       "    <tr>\n",
       "      <th>2289</th>\n",
       "      <td>112.106846</td>\n",
       "      <td>83.683249</td>\n",
       "    </tr>\n",
       "    <tr>\n",
       "      <th>77490</th>\n",
       "      <td>124.580725</td>\n",
       "      <td>110.432334</td>\n",
       "    </tr>\n",
       "    <tr>\n",
       "      <th>27926</th>\n",
       "      <td>39.646613</td>\n",
       "      <td>106.098178</td>\n",
       "    </tr>\n",
       "    <tr>\n",
       "      <th>79954</th>\n",
       "      <td>132.178492</td>\n",
       "      <td>103.575589</td>\n",
       "    </tr>\n",
       "    <tr>\n",
       "      <th>93836</th>\n",
       "      <td>128.769468</td>\n",
       "      <td>72.238277</td>\n",
       "    </tr>\n",
       "  </tbody>\n",
       "</table>\n",
       "</div>"
      ],
      "text/plain": [
       "          product  predict_product\n",
       "52999   29.265796        82.500146\n",
       "86070  113.281236        80.981803\n",
       "95170   48.250800        90.437159\n",
       "32770   46.902034        91.126468\n",
       "38412   12.130536        87.835015\n",
       "2289   112.106846        83.683249\n",
       "77490  124.580725       110.432334\n",
       "27926   39.646613       106.098178\n",
       "79954  132.178492       103.575589\n",
       "93836  128.769468        72.238277"
      ]
     },
     "execution_count": 35,
     "metadata": {},
     "output_type": "execute_result"
    }
   ],
   "source": [
    "y2_val_df.head(10)"
   ]
  },
  {
   "cell_type": "markdown",
   "metadata": {},
   "source": [
    "### Средний запас предсказанного сырья"
   ]
  },
  {
   "cell_type": "code",
   "execution_count": 36,
   "metadata": {},
   "outputs": [
    {
     "name": "stdout",
     "output_type": "stream",
     "text": [
      "Средний предсказанный запас первого региона :92.58\n",
      "Средний предсказанный запас второго региона :68.45\n",
      "Средний предсказанный запас третьего региона :95.12\n"
     ]
    }
   ],
   "source": [
    "mean_pred_product0 = y0_val_df['predict_product'].mean()\n",
    "mean_pred_product1 = y1_val_df['predict_product'].mean()\n",
    "mean_pred_product2 = y2_val_df['predict_product'].mean()\n",
    "\n",
    "print(f'Средний предсказанный запас первого региона :{round(mean_pred_product0,2)}')\n",
    "print(f'Средний предсказанный запас второго региона :{round(mean_pred_product1,2)}')\n",
    "print(f'Средний предсказанный запас третьего региона :{round(mean_pred_product2,2)}')"
   ]
  },
  {
   "cell_type": "markdown",
   "metadata": {},
   "source": [
    "___Вывод___: Максимальный средний запас предсказывается в третьем регионе. При этом минимальное RMSE зафиксировано во втором регионе."
   ]
  },
  {
   "cell_type": "markdown",
   "metadata": {},
   "source": [
    "## Подготовка к расчёту прибыли"
   ]
  },
  {
   "cell_type": "markdown",
   "metadata": {},
   "source": [
    "### Переменные  для расчётов"
   ]
  },
  {
   "cell_type": "code",
   "execution_count": 37,
   "metadata": {},
   "outputs": [],
   "source": [
    "Budget = 10000000000\n",
    "Price_per_barrel = 450\n",
    "Income_per_unit = 450000\n",
    "Wells = 200\n",
    "All_wells = 500\n",
    "\n"
   ]
  },
  {
   "cell_type": "code",
   "execution_count": 38,
   "metadata": {},
   "outputs": [
    {
     "data": {
      "text/plain": [
       "50000000.0"
      ]
     },
     "execution_count": 38,
     "metadata": {},
     "output_type": "execute_result"
    }
   ],
   "source": [
    "Well_cost = Budget / Wells \n",
    "Well_cost"
   ]
  },
  {
   "cell_type": "code",
   "execution_count": 39,
   "metadata": {},
   "outputs": [
    {
     "data": {
      "text/plain": [
       "111.11111111111111"
      ]
     },
     "execution_count": 39,
     "metadata": {},
     "output_type": "execute_result"
    }
   ],
   "source": [
    "Required_volume= Well_cost / Income_per_unit\n",
    "Required_volume"
   ]
  },
  {
   "cell_type": "markdown",
   "metadata": {},
   "source": [
    "___Вывод___: Необходимый объём превышает среднее значения предсказанной добычи во всех регионах"
   ]
  },
  {
   "cell_type": "markdown",
   "metadata": {},
   "source": [
    "## Расчёт прибыли и рисков "
   ]
  },
  {
   "cell_type": "markdown",
   "metadata": {},
   "source": [
    "### Функция для расчёта прибыли"
   ]
  },
  {
   "cell_type": "code",
   "execution_count": 40,
   "metadata": {},
   "outputs": [],
   "source": [
    "def revenue(target, probabilities):\n",
    "    target = target.reset_index(drop=True)\n",
    "    probabilities = probabilities.reset_index(drop=True)\n",
    "    prob_sorted = probabilities.sort_values(ascending=False)\n",
    "    deposits = target[prob_sorted.index][:Wells]\n",
    "    income = Income_per_unit * deposits.sum() - Budget\n",
    "    \n",
    "    return income\n",
    "        "
   ]
  },
  {
   "cell_type": "code",
   "execution_count": 41,
   "metadata": {},
   "outputs": [],
   "source": [
    "def bootstrap(target,pred):\n",
    "    state = np.random.RandomState(78)\n",
    "    values = []\n",
    "    for i in range(1000):\n",
    "        target_subsample = target.sample(n= All_wells ,replace=True,random_state=state)\n",
    "        pred_subsample = pred[target_subsample.index]\n",
    "        \n",
    "        values.append(revenue(target_subsample,pred_subsample))\n",
    "        \n",
    "    values = pd.Series(values)\n",
    "    mean = round(values.mean()/ 1000000,2) \n",
    "    lower = values.quantile(0.025)\n",
    "    upper = values.quantile(0.975)\n",
    "    risk = len(values[values<0])/len(values) * 100 \n",
    "    \n",
    "    return mean,lower,upper,risk\n",
    "        \n"
   ]
  },
  {
   "cell_type": "code",
   "execution_count": 42,
   "metadata": {},
   "outputs": [
    {
     "name": "stdout",
     "output_type": "stream",
     "text": [
      "Cредняя прибыль для региона 1 составит: 438.45 млн.руб\n",
      "Значение риска для региона 1 составляет: 4.2 %\n"
     ]
    }
   ],
   "source": [
    "mean_0,lower_0,upper_0,risk_0 = bootstrap(y0_val,pd.Series(y0_val_pred,index=y0_val.index))\n",
    "print(f'Cредняя прибыль для региона 1 составит: {mean_0} млн.руб')\n",
    "print(f'Значение риска для региона 1 составляет: {risk_0} %')"
   ]
  },
  {
   "cell_type": "code",
   "execution_count": 43,
   "metadata": {},
   "outputs": [
    {
     "name": "stdout",
     "output_type": "stream",
     "text": [
      "Cредняя прибыль для региона 2 составит: 387.73 млн.руб\n",
      "Значение риска для региона 2 составляет: 2.4 %\n"
     ]
    }
   ],
   "source": [
    "mean_1,lower_1,upper_1,risk_1 = bootstrap(y1_val,pd.Series(y1_val_pred,index=y1_val.index))\n",
    "print(f'Cредняя прибыль для региона 2 составит: {mean_1} млн.руб')\n",
    "print(f'Значение риска для региона 2 составляет: {risk_1} %')"
   ]
  },
  {
   "cell_type": "code",
   "execution_count": 44,
   "metadata": {},
   "outputs": [
    {
     "name": "stdout",
     "output_type": "stream",
     "text": [
      "Cредняя прибыль для региона 3 составит: 329.03 млн.руб\n",
      "Значение риска для региона 3 составляет: 12.5 %\n"
     ]
    }
   ],
   "source": [
    "mean_2,lower_2,upper_2,risk_2 = bootstrap(y2_val,pd.Series(y2_val_pred,index=y2_val.index))\n",
    "print(f'Cредняя прибыль для региона 3 составит: {mean_2} млн.руб')\n",
    "print(f'Значение риска для региона 3 составляет: {risk_2} %')"
   ]
  },
  {
   "cell_type": "markdown",
   "metadata": {},
   "source": [
    "## Вывод"
   ]
  },
  {
   "cell_type": "markdown",
   "metadata": {},
   "source": [
    "Для предсказания установок новых скважин были исследованы данные по трём регионам. Средствами модели линейной регрессии были сделаны предсказания касательно возможных запасов. Предсказаны также и средние возможные прибыли и значения риска убытков. Минимальный возможность убытка препдолагается в втором регионе. При этом максимальная средння прибыль прогнозируется в регионе первом. Рекомендовать к разработке можно второй регион,так как там наименьшая вероятность риска убытков."
   ]
  }
 ],
 "metadata": {
  "ExecuteTimeLog": [
   {
    "duration": 414,
    "start_time": "2024-02-02T12:03:45.778Z"
   },
   {
    "duration": 78,
    "start_time": "2024-02-02T12:06:09.826Z"
   },
   {
    "duration": 500,
    "start_time": "2024-02-02T12:06:18.248Z"
   },
   {
    "duration": 15,
    "start_time": "2024-02-02T12:06:55.488Z"
   },
   {
    "duration": 1168,
    "start_time": "2024-02-02T12:14:29.693Z"
   },
   {
    "duration": 9,
    "start_time": "2024-02-02T12:14:40.814Z"
   },
   {
    "duration": 10,
    "start_time": "2024-02-02T12:14:56.652Z"
   },
   {
    "duration": 9,
    "start_time": "2024-02-02T12:15:55.634Z"
   },
   {
    "duration": 15,
    "start_time": "2024-02-02T12:21:26.481Z"
   },
   {
    "duration": 14,
    "start_time": "2024-02-02T12:24:30.905Z"
   },
   {
    "duration": 8,
    "start_time": "2024-02-02T12:24:44.395Z"
   },
   {
    "duration": 13,
    "start_time": "2024-02-02T12:25:06.408Z"
   },
   {
    "duration": 14,
    "start_time": "2024-02-02T12:30:08.317Z"
   },
   {
    "duration": 61,
    "start_time": "2024-02-02T12:42:57.778Z"
   },
   {
    "duration": 49,
    "start_time": "2024-02-02T13:37:17.436Z"
   },
   {
    "duration": 43,
    "start_time": "2024-02-02T13:40:37.500Z"
   },
   {
    "duration": 43,
    "start_time": "2024-02-02T13:40:55.465Z"
   },
   {
    "duration": 107,
    "start_time": "2024-02-02T13:42:24.825Z"
   },
   {
    "duration": 12,
    "start_time": "2024-02-02T13:42:35.946Z"
   },
   {
    "duration": 18,
    "start_time": "2024-02-02T13:43:27.435Z"
   },
   {
    "duration": 14,
    "start_time": "2024-02-02T13:43:29.507Z"
   },
   {
    "duration": 434,
    "start_time": "2024-02-05T08:42:08.564Z"
   },
   {
    "duration": 1621,
    "start_time": "2024-02-05T08:42:09.000Z"
   },
   {
    "duration": 18,
    "start_time": "2024-02-05T08:42:10.623Z"
   },
   {
    "duration": 10,
    "start_time": "2024-02-05T08:42:10.643Z"
   },
   {
    "duration": 14,
    "start_time": "2024-02-05T08:42:10.655Z"
   },
   {
    "duration": 17,
    "start_time": "2024-02-05T08:42:10.673Z"
   },
   {
    "duration": 16,
    "start_time": "2024-02-05T08:42:10.692Z"
   },
   {
    "duration": 14,
    "start_time": "2024-02-05T08:42:10.710Z"
   },
   {
    "duration": 69,
    "start_time": "2024-02-05T08:42:10.725Z"
   },
   {
    "duration": 45,
    "start_time": "2024-02-05T08:42:10.795Z"
   },
   {
    "duration": 63,
    "start_time": "2024-02-05T08:42:10.841Z"
   },
   {
    "duration": 2,
    "start_time": "2024-02-05T08:42:10.906Z"
   },
   {
    "duration": 7,
    "start_time": "2024-02-05T08:42:10.909Z"
   },
   {
    "duration": 438,
    "start_time": "2024-02-05T10:12:05.735Z"
   },
   {
    "duration": 431,
    "start_time": "2024-02-05T10:12:06.175Z"
   },
   {
    "duration": 16,
    "start_time": "2024-02-05T10:12:06.608Z"
   },
   {
    "duration": 30,
    "start_time": "2024-02-05T10:12:06.626Z"
   },
   {
    "duration": 36,
    "start_time": "2024-02-05T10:12:06.658Z"
   },
   {
    "duration": 50,
    "start_time": "2024-02-05T10:12:06.696Z"
   },
   {
    "duration": 23,
    "start_time": "2024-02-05T10:12:06.748Z"
   },
   {
    "duration": 24,
    "start_time": "2024-02-05T10:12:06.773Z"
   },
   {
    "duration": 53,
    "start_time": "2024-02-05T10:12:06.799Z"
   },
   {
    "duration": 57,
    "start_time": "2024-02-05T10:12:06.854Z"
   },
   {
    "duration": 66,
    "start_time": "2024-02-05T10:12:06.913Z"
   },
   {
    "duration": 3,
    "start_time": "2024-02-05T10:12:06.981Z"
   },
   {
    "duration": 41,
    "start_time": "2024-02-05T10:12:06.986Z"
   },
   {
    "duration": 21,
    "start_time": "2024-02-05T10:12:07.030Z"
   },
   {
    "duration": 725,
    "start_time": "2024-02-05T12:40:56.495Z"
   },
   {
    "duration": 106,
    "start_time": "2024-02-05T12:47:18.163Z"
   },
   {
    "duration": 41,
    "start_time": "2024-02-05T12:50:06.268Z"
   },
   {
    "duration": 31,
    "start_time": "2024-02-05T12:50:27.914Z"
   },
   {
    "duration": 30,
    "start_time": "2024-02-05T12:54:09.344Z"
   },
   {
    "duration": 22,
    "start_time": "2024-02-05T12:56:17.391Z"
   },
   {
    "duration": 23,
    "start_time": "2024-02-05T12:57:16.726Z"
   },
   {
    "duration": 41,
    "start_time": "2024-02-05T13:00:20.772Z"
   },
   {
    "duration": 16,
    "start_time": "2024-02-05T13:01:10.708Z"
   },
   {
    "duration": 15,
    "start_time": "2024-02-05T13:01:14.852Z"
   },
   {
    "duration": 3,
    "start_time": "2024-02-05T13:05:36.753Z"
   },
   {
    "duration": 11,
    "start_time": "2024-02-05T13:06:00.656Z"
   },
   {
    "duration": 4,
    "start_time": "2024-02-05T13:06:31.176Z"
   },
   {
    "duration": 5,
    "start_time": "2024-02-05T13:06:47.983Z"
   },
   {
    "duration": 10,
    "start_time": "2024-02-05T13:22:27.925Z"
   },
   {
    "duration": 6,
    "start_time": "2024-02-05T13:23:11.091Z"
   },
   {
    "duration": 185,
    "start_time": "2024-02-05T13:29:31.095Z"
   },
   {
    "duration": 13,
    "start_time": "2024-02-05T13:43:03.639Z"
   },
   {
    "duration": 9,
    "start_time": "2024-02-05T13:44:03.669Z"
   },
   {
    "duration": 15,
    "start_time": "2024-02-05T13:44:29.853Z"
   },
   {
    "duration": 1227,
    "start_time": "2024-02-05T13:44:43.539Z"
   },
   {
    "duration": 452,
    "start_time": "2024-02-05T13:44:44.768Z"
   },
   {
    "duration": 18,
    "start_time": "2024-02-05T13:44:45.222Z"
   },
   {
    "duration": 33,
    "start_time": "2024-02-05T13:44:45.241Z"
   },
   {
    "duration": 14,
    "start_time": "2024-02-05T13:44:45.276Z"
   },
   {
    "duration": 38,
    "start_time": "2024-02-05T13:44:45.291Z"
   },
   {
    "duration": 25,
    "start_time": "2024-02-05T13:44:45.331Z"
   },
   {
    "duration": 21,
    "start_time": "2024-02-05T13:44:45.357Z"
   },
   {
    "duration": 75,
    "start_time": "2024-02-05T13:44:45.379Z"
   },
   {
    "duration": 44,
    "start_time": "2024-02-05T13:44:45.455Z"
   },
   {
    "duration": 46,
    "start_time": "2024-02-05T13:44:45.501Z"
   },
   {
    "duration": 2,
    "start_time": "2024-02-05T13:44:45.549Z"
   },
   {
    "duration": 20,
    "start_time": "2024-02-05T13:44:45.553Z"
   },
   {
    "duration": 23,
    "start_time": "2024-02-05T13:44:45.576Z"
   },
   {
    "duration": 14,
    "start_time": "2024-02-05T13:44:45.601Z"
   },
   {
    "duration": 73,
    "start_time": "2024-02-05T13:44:45.616Z"
   },
   {
    "duration": 5,
    "start_time": "2024-02-05T13:44:45.773Z"
   },
   {
    "duration": 16,
    "start_time": "2024-02-05T13:44:45.780Z"
   },
   {
    "duration": 110,
    "start_time": "2024-02-05T13:45:09.186Z"
   },
   {
    "duration": 4,
    "start_time": "2024-02-05T13:48:36.775Z"
   },
   {
    "duration": 14,
    "start_time": "2024-02-05T13:49:07.007Z"
   },
   {
    "duration": 12,
    "start_time": "2024-02-05T14:22:22.779Z"
   },
   {
    "duration": 8,
    "start_time": "2024-02-05T14:22:27.425Z"
   },
   {
    "duration": 1176,
    "start_time": "2024-02-05T14:23:22.844Z"
   },
   {
    "duration": 456,
    "start_time": "2024-02-05T14:23:24.023Z"
   },
   {
    "duration": 17,
    "start_time": "2024-02-05T14:23:24.480Z"
   },
   {
    "duration": 13,
    "start_time": "2024-02-05T14:23:24.498Z"
   },
   {
    "duration": 17,
    "start_time": "2024-02-05T14:23:24.513Z"
   },
   {
    "duration": 23,
    "start_time": "2024-02-05T14:23:24.532Z"
   },
   {
    "duration": 31,
    "start_time": "2024-02-05T14:23:24.556Z"
   },
   {
    "duration": 23,
    "start_time": "2024-02-05T14:23:24.588Z"
   },
   {
    "duration": 65,
    "start_time": "2024-02-05T14:23:24.613Z"
   },
   {
    "duration": 44,
    "start_time": "2024-02-05T14:23:24.680Z"
   },
   {
    "duration": 65,
    "start_time": "2024-02-05T14:23:24.726Z"
   },
   {
    "duration": 3,
    "start_time": "2024-02-05T14:23:24.793Z"
   },
   {
    "duration": 17,
    "start_time": "2024-02-05T14:23:24.797Z"
   },
   {
    "duration": 15,
    "start_time": "2024-02-05T14:23:24.816Z"
   },
   {
    "duration": 14,
    "start_time": "2024-02-05T14:23:24.833Z"
   },
   {
    "duration": 31,
    "start_time": "2024-02-05T14:23:24.848Z"
   },
   {
    "duration": 91,
    "start_time": "2024-02-05T14:23:24.884Z"
   },
   {
    "duration": 96,
    "start_time": "2024-02-05T14:23:24.977Z"
   },
   {
    "duration": 6,
    "start_time": "2024-02-05T14:23:25.075Z"
   },
   {
    "duration": 11,
    "start_time": "2024-02-05T14:23:37.440Z"
   },
   {
    "duration": 6,
    "start_time": "2024-02-05T14:23:48.102Z"
   },
   {
    "duration": 4,
    "start_time": "2024-02-05T14:23:57.048Z"
   },
   {
    "duration": 4,
    "start_time": "2024-02-05T14:23:58.631Z"
   },
   {
    "duration": 4,
    "start_time": "2024-02-05T14:27:11.202Z"
   },
   {
    "duration": 111,
    "start_time": "2024-02-05T14:28:06.947Z"
   },
   {
    "duration": 7,
    "start_time": "2024-02-05T14:33:00.756Z"
   },
   {
    "duration": 3,
    "start_time": "2024-02-05T14:33:06.106Z"
   },
   {
    "duration": 6,
    "start_time": "2024-02-05T14:33:08.099Z"
   },
   {
    "duration": 15,
    "start_time": "2024-02-05T15:14:26.858Z"
   },
   {
    "duration": 1164,
    "start_time": "2024-02-05T15:14:52.169Z"
   },
   {
    "duration": 457,
    "start_time": "2024-02-05T15:14:53.335Z"
   },
   {
    "duration": 26,
    "start_time": "2024-02-05T15:14:53.794Z"
   },
   {
    "duration": 23,
    "start_time": "2024-02-05T15:14:53.822Z"
   },
   {
    "duration": 27,
    "start_time": "2024-02-05T15:14:53.848Z"
   },
   {
    "duration": 21,
    "start_time": "2024-02-05T15:14:53.876Z"
   },
   {
    "duration": 23,
    "start_time": "2024-02-05T15:14:53.899Z"
   },
   {
    "duration": 51,
    "start_time": "2024-02-05T15:14:53.925Z"
   },
   {
    "duration": 70,
    "start_time": "2024-02-05T15:14:53.978Z"
   },
   {
    "duration": 72,
    "start_time": "2024-02-05T15:14:54.049Z"
   },
   {
    "duration": 74,
    "start_time": "2024-02-05T15:14:54.122Z"
   },
   {
    "duration": 3,
    "start_time": "2024-02-05T15:14:54.197Z"
   },
   {
    "duration": 11,
    "start_time": "2024-02-05T15:14:54.202Z"
   },
   {
    "duration": 14,
    "start_time": "2024-02-05T15:14:54.216Z"
   },
   {
    "duration": 15,
    "start_time": "2024-02-05T15:14:54.232Z"
   },
   {
    "duration": 27,
    "start_time": "2024-02-05T15:14:54.248Z"
   },
   {
    "duration": 100,
    "start_time": "2024-02-05T15:14:54.277Z"
   },
   {
    "duration": 103,
    "start_time": "2024-02-05T15:14:54.378Z"
   },
   {
    "duration": 6,
    "start_time": "2024-02-05T15:14:54.482Z"
   },
   {
    "duration": 6,
    "start_time": "2024-02-05T15:14:54.489Z"
   },
   {
    "duration": 7,
    "start_time": "2024-02-05T15:14:54.497Z"
   },
   {
    "duration": 1105,
    "start_time": "2024-02-06T06:31:48.386Z"
   },
   {
    "duration": 427,
    "start_time": "2024-02-06T06:31:49.493Z"
   },
   {
    "duration": 16,
    "start_time": "2024-02-06T06:31:49.921Z"
   },
   {
    "duration": 25,
    "start_time": "2024-02-06T06:31:49.939Z"
   },
   {
    "duration": 19,
    "start_time": "2024-02-06T06:31:49.966Z"
   },
   {
    "duration": 22,
    "start_time": "2024-02-06T06:31:49.986Z"
   },
   {
    "duration": 32,
    "start_time": "2024-02-06T06:31:50.010Z"
   },
   {
    "duration": 18,
    "start_time": "2024-02-06T06:31:50.044Z"
   },
   {
    "duration": 47,
    "start_time": "2024-02-06T06:31:50.063Z"
   },
   {
    "duration": 41,
    "start_time": "2024-02-06T06:31:50.111Z"
   },
   {
    "duration": 57,
    "start_time": "2024-02-06T06:31:50.154Z"
   },
   {
    "duration": 3,
    "start_time": "2024-02-06T06:31:50.212Z"
   },
   {
    "duration": 39,
    "start_time": "2024-02-06T06:31:50.216Z"
   },
   {
    "duration": 46,
    "start_time": "2024-02-06T06:31:50.257Z"
   },
   {
    "duration": 34,
    "start_time": "2024-02-06T06:31:50.305Z"
   },
   {
    "duration": 6,
    "start_time": "2024-02-06T06:31:50.340Z"
   },
   {
    "duration": 27,
    "start_time": "2024-02-06T06:31:50.348Z"
   },
   {
    "duration": 115,
    "start_time": "2024-02-06T06:31:50.378Z"
   },
   {
    "duration": 12,
    "start_time": "2024-02-06T06:31:50.495Z"
   },
   {
    "duration": 38,
    "start_time": "2024-02-06T06:31:50.509Z"
   },
   {
    "duration": 33,
    "start_time": "2024-02-06T06:31:50.548Z"
   },
   {
    "duration": 7,
    "start_time": "2024-02-06T07:26:04.235Z"
   },
   {
    "duration": 6,
    "start_time": "2024-02-06T07:26:10.524Z"
   },
   {
    "duration": 7,
    "start_time": "2024-02-06T07:26:20.299Z"
   },
   {
    "duration": 3,
    "start_time": "2024-02-06T07:28:47.819Z"
   },
   {
    "duration": 7,
    "start_time": "2024-02-06T07:28:50.232Z"
   },
   {
    "duration": 111,
    "start_time": "2024-02-06T07:33:05.480Z"
   },
   {
    "duration": 9,
    "start_time": "2024-02-06T07:33:34.696Z"
   },
   {
    "duration": 1159,
    "start_time": "2024-02-06T07:33:56.162Z"
   },
   {
    "duration": 419,
    "start_time": "2024-02-06T07:33:57.323Z"
   },
   {
    "duration": 16,
    "start_time": "2024-02-06T07:33:57.744Z"
   },
   {
    "duration": 13,
    "start_time": "2024-02-06T07:33:57.761Z"
   },
   {
    "duration": 12,
    "start_time": "2024-02-06T07:33:57.776Z"
   },
   {
    "duration": 15,
    "start_time": "2024-02-06T07:33:57.789Z"
   },
   {
    "duration": 14,
    "start_time": "2024-02-06T07:33:57.805Z"
   },
   {
    "duration": 13,
    "start_time": "2024-02-06T07:33:57.821Z"
   },
   {
    "duration": 79,
    "start_time": "2024-02-06T07:33:57.836Z"
   },
   {
    "duration": 58,
    "start_time": "2024-02-06T07:33:57.916Z"
   },
   {
    "duration": 45,
    "start_time": "2024-02-06T07:33:57.975Z"
   },
   {
    "duration": 2,
    "start_time": "2024-02-06T07:33:58.022Z"
   },
   {
    "duration": 4,
    "start_time": "2024-02-06T07:33:58.026Z"
   },
   {
    "duration": 43,
    "start_time": "2024-02-06T07:33:58.032Z"
   },
   {
    "duration": 19,
    "start_time": "2024-02-06T07:33:58.076Z"
   },
   {
    "duration": 6,
    "start_time": "2024-02-06T07:33:58.097Z"
   },
   {
    "duration": 166,
    "start_time": "2024-02-06T07:33:58.106Z"
   },
   {
    "duration": 4,
    "start_time": "2024-02-06T07:33:58.274Z"
   },
   {
    "duration": 11,
    "start_time": "2024-02-06T07:33:58.280Z"
   },
   {
    "duration": 12,
    "start_time": "2024-02-06T07:33:58.293Z"
   },
   {
    "duration": 4,
    "start_time": "2024-02-06T07:33:58.307Z"
   },
   {
    "duration": 3,
    "start_time": "2024-02-06T07:34:06.676Z"
   },
   {
    "duration": 10,
    "start_time": "2024-02-06T07:34:09.315Z"
   },
   {
    "duration": 1129,
    "start_time": "2024-02-06T12:23:39.553Z"
   },
   {
    "duration": 422,
    "start_time": "2024-02-06T12:23:40.684Z"
   },
   {
    "duration": 19,
    "start_time": "2024-02-06T12:23:41.107Z"
   },
   {
    "duration": 9,
    "start_time": "2024-02-06T12:23:41.128Z"
   },
   {
    "duration": 9,
    "start_time": "2024-02-06T12:23:41.139Z"
   },
   {
    "duration": 38,
    "start_time": "2024-02-06T12:23:41.149Z"
   },
   {
    "duration": 17,
    "start_time": "2024-02-06T12:23:41.189Z"
   },
   {
    "duration": 16,
    "start_time": "2024-02-06T12:23:41.208Z"
   },
   {
    "duration": 83,
    "start_time": "2024-02-06T12:23:41.226Z"
   },
   {
    "duration": 63,
    "start_time": "2024-02-06T12:23:41.311Z"
   },
   {
    "duration": 48,
    "start_time": "2024-02-06T12:23:41.376Z"
   },
   {
    "duration": 2,
    "start_time": "2024-02-06T12:23:41.426Z"
   },
   {
    "duration": 6,
    "start_time": "2024-02-06T12:23:41.430Z"
   },
   {
    "duration": 43,
    "start_time": "2024-02-06T12:23:41.439Z"
   },
   {
    "duration": 14,
    "start_time": "2024-02-06T12:23:41.484Z"
   },
   {
    "duration": 6,
    "start_time": "2024-02-06T12:23:41.499Z"
   },
   {
    "duration": 71,
    "start_time": "2024-02-06T12:23:41.507Z"
   },
   {
    "duration": 93,
    "start_time": "2024-02-06T12:23:41.580Z"
   },
   {
    "duration": 15,
    "start_time": "2024-02-06T12:23:41.675Z"
   },
   {
    "duration": 22,
    "start_time": "2024-02-06T12:23:41.692Z"
   },
   {
    "duration": 7,
    "start_time": "2024-02-06T12:23:41.716Z"
   },
   {
    "duration": 1169,
    "start_time": "2024-02-06T12:25:43.831Z"
   },
   {
    "duration": 438,
    "start_time": "2024-02-06T12:25:45.003Z"
   },
   {
    "duration": 18,
    "start_time": "2024-02-06T12:25:45.443Z"
   },
   {
    "duration": 17,
    "start_time": "2024-02-06T12:25:45.464Z"
   },
   {
    "duration": 19,
    "start_time": "2024-02-06T12:25:45.482Z"
   },
   {
    "duration": 28,
    "start_time": "2024-02-06T12:25:45.502Z"
   },
   {
    "duration": 19,
    "start_time": "2024-02-06T12:25:45.531Z"
   },
   {
    "duration": 30,
    "start_time": "2024-02-06T12:25:45.552Z"
   },
   {
    "duration": 47,
    "start_time": "2024-02-06T12:25:45.584Z"
   },
   {
    "duration": 70,
    "start_time": "2024-02-06T12:25:45.633Z"
   },
   {
    "duration": 47,
    "start_time": "2024-02-06T12:25:45.704Z"
   },
   {
    "duration": 20,
    "start_time": "2024-02-06T12:25:45.753Z"
   },
   {
    "duration": 2,
    "start_time": "2024-02-06T12:25:45.774Z"
   },
   {
    "duration": 19,
    "start_time": "2024-02-06T12:25:45.778Z"
   },
   {
    "duration": 117,
    "start_time": "2024-02-06T12:25:45.799Z"
   },
   {
    "duration": 0,
    "start_time": "2024-02-06T12:25:45.917Z"
   },
   {
    "duration": 0,
    "start_time": "2024-02-06T12:25:45.919Z"
   },
   {
    "duration": 0,
    "start_time": "2024-02-06T12:25:45.919Z"
   },
   {
    "duration": 0,
    "start_time": "2024-02-06T12:25:45.920Z"
   },
   {
    "duration": 0,
    "start_time": "2024-02-06T12:25:45.921Z"
   },
   {
    "duration": 1,
    "start_time": "2024-02-06T12:25:45.922Z"
   },
   {
    "duration": 14,
    "start_time": "2024-02-06T12:25:52.586Z"
   },
   {
    "duration": 5,
    "start_time": "2024-02-06T12:25:56.834Z"
   },
   {
    "duration": 5,
    "start_time": "2024-02-06T12:25:57.290Z"
   },
   {
    "duration": 3,
    "start_time": "2024-02-06T12:25:57.875Z"
   },
   {
    "duration": 4,
    "start_time": "2024-02-06T12:25:58.330Z"
   },
   {
    "duration": 11,
    "start_time": "2024-02-06T12:25:59.034Z"
   },
   {
    "duration": 24,
    "start_time": "2024-02-06T13:34:08.633Z"
   },
   {
    "duration": 24,
    "start_time": "2024-02-06T13:34:15.848Z"
   },
   {
    "duration": 25,
    "start_time": "2024-02-06T13:36:16.880Z"
   },
   {
    "duration": 25,
    "start_time": "2024-02-06T13:36:37.462Z"
   },
   {
    "duration": 85,
    "start_time": "2024-02-06T13:37:36.117Z"
   },
   {
    "duration": 12,
    "start_time": "2024-02-06T13:37:58.846Z"
   },
   {
    "duration": 77,
    "start_time": "2024-02-06T13:38:10.622Z"
   },
   {
    "duration": 1120,
    "start_time": "2024-02-06T13:38:19.333Z"
   },
   {
    "duration": 427,
    "start_time": "2024-02-06T13:38:20.455Z"
   },
   {
    "duration": 16,
    "start_time": "2024-02-06T13:38:20.883Z"
   },
   {
    "duration": 17,
    "start_time": "2024-02-06T13:38:20.901Z"
   },
   {
    "duration": 10,
    "start_time": "2024-02-06T13:38:20.920Z"
   },
   {
    "duration": 22,
    "start_time": "2024-02-06T13:38:20.931Z"
   },
   {
    "duration": 22,
    "start_time": "2024-02-06T13:38:20.955Z"
   },
   {
    "duration": 19,
    "start_time": "2024-02-06T13:38:20.979Z"
   },
   {
    "duration": 25,
    "start_time": "2024-02-06T13:38:21.000Z"
   },
   {
    "duration": 34,
    "start_time": "2024-02-06T13:38:21.027Z"
   },
   {
    "duration": 31,
    "start_time": "2024-02-06T13:38:21.063Z"
   },
   {
    "duration": 78,
    "start_time": "2024-02-06T13:38:21.095Z"
   },
   {
    "duration": 3,
    "start_time": "2024-02-06T13:38:21.174Z"
   },
   {
    "duration": 25,
    "start_time": "2024-02-06T13:38:21.178Z"
   },
   {
    "duration": 30,
    "start_time": "2024-02-06T13:38:21.204Z"
   },
   {
    "duration": 20,
    "start_time": "2024-02-06T13:38:21.236Z"
   },
   {
    "duration": 18,
    "start_time": "2024-02-06T13:38:21.257Z"
   },
   {
    "duration": 99,
    "start_time": "2024-02-06T13:38:21.277Z"
   },
   {
    "duration": 96,
    "start_time": "2024-02-06T13:38:21.378Z"
   },
   {
    "duration": 11,
    "start_time": "2024-02-06T13:38:21.476Z"
   },
   {
    "duration": 26,
    "start_time": "2024-02-06T13:38:21.488Z"
   },
   {
    "duration": 20,
    "start_time": "2024-02-06T13:38:21.516Z"
   },
   {
    "duration": 1134,
    "start_time": "2024-02-06T13:51:27.163Z"
   },
   {
    "duration": 411,
    "start_time": "2024-02-06T13:51:28.299Z"
   },
   {
    "duration": 17,
    "start_time": "2024-02-06T13:51:28.712Z"
   },
   {
    "duration": 18,
    "start_time": "2024-02-06T13:51:28.731Z"
   },
   {
    "duration": 30,
    "start_time": "2024-02-06T13:51:28.751Z"
   },
   {
    "duration": 31,
    "start_time": "2024-02-06T13:51:28.783Z"
   },
   {
    "duration": 27,
    "start_time": "2024-02-06T13:51:28.816Z"
   },
   {
    "duration": 16,
    "start_time": "2024-02-06T13:51:28.845Z"
   },
   {
    "duration": 47,
    "start_time": "2024-02-06T13:51:28.862Z"
   },
   {
    "duration": 21,
    "start_time": "2024-02-06T13:51:28.911Z"
   },
   {
    "duration": 23,
    "start_time": "2024-02-06T13:51:28.934Z"
   },
   {
    "duration": 75,
    "start_time": "2024-02-06T13:51:28.959Z"
   },
   {
    "duration": 3,
    "start_time": "2024-02-06T13:51:29.036Z"
   },
   {
    "duration": 5,
    "start_time": "2024-02-06T13:51:29.042Z"
   },
   {
    "duration": 28,
    "start_time": "2024-02-06T13:51:29.049Z"
   },
   {
    "duration": 14,
    "start_time": "2024-02-06T13:51:29.079Z"
   },
   {
    "duration": 78,
    "start_time": "2024-02-06T13:51:29.095Z"
   },
   {
    "duration": 7,
    "start_time": "2024-02-06T13:51:29.175Z"
   },
   {
    "duration": 4,
    "start_time": "2024-02-06T13:51:29.272Z"
   },
   {
    "duration": 18,
    "start_time": "2024-02-06T13:51:29.277Z"
   },
   {
    "duration": 18,
    "start_time": "2024-02-06T13:51:29.296Z"
   },
   {
    "duration": 8,
    "start_time": "2024-02-06T13:51:29.315Z"
   },
   {
    "duration": 108,
    "start_time": "2024-02-06T14:12:33.312Z"
   },
   {
    "duration": 17,
    "start_time": "2024-02-06T14:47:55.690Z"
   },
   {
    "duration": 89,
    "start_time": "2024-02-06T14:48:40.924Z"
   },
   {
    "duration": 27,
    "start_time": "2024-02-06T14:55:37.661Z"
   },
   {
    "duration": 5,
    "start_time": "2024-02-06T14:58:05.355Z"
   },
   {
    "duration": 8,
    "start_time": "2024-02-06T14:58:34.955Z"
   },
   {
    "duration": 3,
    "start_time": "2024-02-06T14:59:09.218Z"
   },
   {
    "duration": 5,
    "start_time": "2024-02-06T14:59:44.813Z"
   },
   {
    "duration": 10,
    "start_time": "2024-02-06T14:59:51.757Z"
   },
   {
    "duration": 8,
    "start_time": "2024-02-06T15:00:10.282Z"
   },
   {
    "duration": 4,
    "start_time": "2024-02-06T15:09:06.238Z"
   },
   {
    "duration": 4,
    "start_time": "2024-02-06T15:09:08.435Z"
   },
   {
    "duration": 1203,
    "start_time": "2024-02-07T07:03:32.033Z"
   },
   {
    "duration": 833,
    "start_time": "2024-02-07T07:03:33.238Z"
   },
   {
    "duration": 18,
    "start_time": "2024-02-07T07:03:34.072Z"
   },
   {
    "duration": 9,
    "start_time": "2024-02-07T07:03:34.092Z"
   },
   {
    "duration": 9,
    "start_time": "2024-02-07T07:03:34.102Z"
   },
   {
    "duration": 19,
    "start_time": "2024-02-07T07:03:34.113Z"
   },
   {
    "duration": 33,
    "start_time": "2024-02-07T07:03:34.134Z"
   },
   {
    "duration": 16,
    "start_time": "2024-02-07T07:03:34.168Z"
   },
   {
    "duration": 23,
    "start_time": "2024-02-07T07:03:34.186Z"
   },
   {
    "duration": 47,
    "start_time": "2024-02-07T07:03:34.212Z"
   },
   {
    "duration": 23,
    "start_time": "2024-02-07T07:03:34.261Z"
   },
   {
    "duration": 97,
    "start_time": "2024-02-07T07:03:34.285Z"
   },
   {
    "duration": 3,
    "start_time": "2024-02-07T07:03:34.383Z"
   },
   {
    "duration": 3,
    "start_time": "2024-02-07T07:03:34.388Z"
   },
   {
    "duration": 26,
    "start_time": "2024-02-07T07:03:34.392Z"
   },
   {
    "duration": 16,
    "start_time": "2024-02-07T07:03:34.420Z"
   },
   {
    "duration": 31,
    "start_time": "2024-02-07T07:03:34.437Z"
   },
   {
    "duration": 278,
    "start_time": "2024-02-07T07:03:34.470Z"
   },
   {
    "duration": 0,
    "start_time": "2024-02-07T07:03:34.759Z"
   },
   {
    "duration": 0,
    "start_time": "2024-02-07T07:03:34.760Z"
   },
   {
    "duration": 0,
    "start_time": "2024-02-07T07:03:34.762Z"
   },
   {
    "duration": 0,
    "start_time": "2024-02-07T07:03:34.763Z"
   },
   {
    "duration": 0,
    "start_time": "2024-02-07T07:03:34.764Z"
   },
   {
    "duration": 0,
    "start_time": "2024-02-07T07:03:34.765Z"
   },
   {
    "duration": 0,
    "start_time": "2024-02-07T07:03:34.767Z"
   },
   {
    "duration": 0,
    "start_time": "2024-02-07T07:03:34.768Z"
   },
   {
    "duration": 0,
    "start_time": "2024-02-07T07:03:34.769Z"
   },
   {
    "duration": 0,
    "start_time": "2024-02-07T07:03:34.770Z"
   },
   {
    "duration": 5,
    "start_time": "2024-02-07T07:06:04.583Z"
   },
   {
    "duration": 1215,
    "start_time": "2024-02-07T07:06:08.335Z"
   },
   {
    "duration": 451,
    "start_time": "2024-02-07T07:06:09.552Z"
   },
   {
    "duration": 18,
    "start_time": "2024-02-07T07:06:10.005Z"
   },
   {
    "duration": 14,
    "start_time": "2024-02-07T07:06:10.025Z"
   },
   {
    "duration": 21,
    "start_time": "2024-02-07T07:06:10.042Z"
   },
   {
    "duration": 35,
    "start_time": "2024-02-07T07:06:10.064Z"
   },
   {
    "duration": 16,
    "start_time": "2024-02-07T07:06:10.100Z"
   },
   {
    "duration": 31,
    "start_time": "2024-02-07T07:06:10.118Z"
   },
   {
    "duration": 24,
    "start_time": "2024-02-07T07:06:10.150Z"
   },
   {
    "duration": 25,
    "start_time": "2024-02-07T07:06:10.176Z"
   },
   {
    "duration": 23,
    "start_time": "2024-02-07T07:06:10.203Z"
   },
   {
    "duration": 75,
    "start_time": "2024-02-07T07:06:10.258Z"
   },
   {
    "duration": 2,
    "start_time": "2024-02-07T07:06:10.335Z"
   },
   {
    "duration": 26,
    "start_time": "2024-02-07T07:06:10.340Z"
   },
   {
    "duration": 16,
    "start_time": "2024-02-07T07:06:10.368Z"
   },
   {
    "duration": 16,
    "start_time": "2024-02-07T07:06:10.386Z"
   },
   {
    "duration": 112,
    "start_time": "2024-02-07T07:06:10.404Z"
   },
   {
    "duration": 0,
    "start_time": "2024-02-07T07:06:10.518Z"
   },
   {
    "duration": 0,
    "start_time": "2024-02-07T07:06:10.519Z"
   },
   {
    "duration": 0,
    "start_time": "2024-02-07T07:06:10.521Z"
   },
   {
    "duration": 0,
    "start_time": "2024-02-07T07:06:10.522Z"
   },
   {
    "duration": 0,
    "start_time": "2024-02-07T07:06:10.524Z"
   },
   {
    "duration": 0,
    "start_time": "2024-02-07T07:06:10.525Z"
   },
   {
    "duration": 0,
    "start_time": "2024-02-07T07:06:10.526Z"
   },
   {
    "duration": 0,
    "start_time": "2024-02-07T07:06:10.528Z"
   },
   {
    "duration": 0,
    "start_time": "2024-02-07T07:06:10.529Z"
   },
   {
    "duration": 0,
    "start_time": "2024-02-07T07:06:10.531Z"
   },
   {
    "duration": 0,
    "start_time": "2024-02-07T07:06:10.532Z"
   },
   {
    "duration": 1259,
    "start_time": "2024-02-07T07:15:46.633Z"
   },
   {
    "duration": 454,
    "start_time": "2024-02-07T07:15:47.894Z"
   },
   {
    "duration": 18,
    "start_time": "2024-02-07T07:15:48.350Z"
   },
   {
    "duration": 11,
    "start_time": "2024-02-07T07:15:48.370Z"
   },
   {
    "duration": 27,
    "start_time": "2024-02-07T07:15:48.382Z"
   },
   {
    "duration": 24,
    "start_time": "2024-02-07T07:15:48.411Z"
   },
   {
    "duration": 21,
    "start_time": "2024-02-07T07:15:48.437Z"
   },
   {
    "duration": 19,
    "start_time": "2024-02-07T07:15:48.460Z"
   },
   {
    "duration": 32,
    "start_time": "2024-02-07T07:15:48.481Z"
   },
   {
    "duration": 43,
    "start_time": "2024-02-07T07:15:48.516Z"
   },
   {
    "duration": 26,
    "start_time": "2024-02-07T07:15:48.561Z"
   },
   {
    "duration": 100,
    "start_time": "2024-02-07T07:15:48.589Z"
   },
   {
    "duration": 3,
    "start_time": "2024-02-07T07:15:48.690Z"
   },
   {
    "duration": 6,
    "start_time": "2024-02-07T07:15:48.695Z"
   },
   {
    "duration": 27,
    "start_time": "2024-02-07T07:15:48.703Z"
   },
   {
    "duration": 25,
    "start_time": "2024-02-07T07:15:48.731Z"
   },
   {
    "duration": 14,
    "start_time": "2024-02-07T07:15:48.758Z"
   },
   {
    "duration": 97,
    "start_time": "2024-02-07T07:15:48.775Z"
   },
   {
    "duration": 4,
    "start_time": "2024-02-07T07:15:48.959Z"
   },
   {
    "duration": 16,
    "start_time": "2024-02-07T07:15:48.965Z"
   },
   {
    "duration": 22,
    "start_time": "2024-02-07T07:15:48.983Z"
   },
   {
    "duration": 54,
    "start_time": "2024-02-07T07:15:49.006Z"
   },
   {
    "duration": 23,
    "start_time": "2024-02-07T07:15:49.062Z"
   },
   {
    "duration": 75,
    "start_time": "2024-02-07T07:15:49.087Z"
   },
   {
    "duration": 7,
    "start_time": "2024-02-07T07:15:49.165Z"
   },
   {
    "duration": 151,
    "start_time": "2024-02-07T07:15:49.259Z"
   },
   {
    "duration": 0,
    "start_time": "2024-02-07T07:15:49.412Z"
   },
   {
    "duration": 0,
    "start_time": "2024-02-07T07:15:49.413Z"
   },
   {
    "duration": 0,
    "start_time": "2024-02-07T07:15:49.414Z"
   },
   {
    "duration": 1185,
    "start_time": "2024-02-07T07:16:22.717Z"
   },
   {
    "duration": 484,
    "start_time": "2024-02-07T07:16:23.904Z"
   },
   {
    "duration": 23,
    "start_time": "2024-02-07T07:16:24.390Z"
   },
   {
    "duration": 10,
    "start_time": "2024-02-07T07:16:24.416Z"
   },
   {
    "duration": 31,
    "start_time": "2024-02-07T07:16:24.429Z"
   },
   {
    "duration": 21,
    "start_time": "2024-02-07T07:16:24.462Z"
   },
   {
    "duration": 20,
    "start_time": "2024-02-07T07:16:24.486Z"
   },
   {
    "duration": 53,
    "start_time": "2024-02-07T07:16:24.508Z"
   },
   {
    "duration": 26,
    "start_time": "2024-02-07T07:16:24.563Z"
   },
   {
    "duration": 40,
    "start_time": "2024-02-07T07:16:24.591Z"
   },
   {
    "duration": 32,
    "start_time": "2024-02-07T07:16:24.633Z"
   },
   {
    "duration": 97,
    "start_time": "2024-02-07T07:16:24.667Z"
   },
   {
    "duration": 3,
    "start_time": "2024-02-07T07:16:24.767Z"
   },
   {
    "duration": 10,
    "start_time": "2024-02-07T07:16:24.773Z"
   },
   {
    "duration": 21,
    "start_time": "2024-02-07T07:16:24.785Z"
   },
   {
    "duration": 19,
    "start_time": "2024-02-07T07:16:24.808Z"
   },
   {
    "duration": 4,
    "start_time": "2024-02-07T07:16:24.829Z"
   },
   {
    "duration": 14,
    "start_time": "2024-02-07T07:16:24.859Z"
   },
   {
    "duration": 8,
    "start_time": "2024-02-07T07:16:24.959Z"
   },
   {
    "duration": 6,
    "start_time": "2024-02-07T07:16:24.968Z"
   },
   {
    "duration": 11,
    "start_time": "2024-02-07T07:16:24.977Z"
   },
   {
    "duration": 31,
    "start_time": "2024-02-07T07:16:24.990Z"
   },
   {
    "duration": 56,
    "start_time": "2024-02-07T07:16:25.023Z"
   },
   {
    "duration": 9,
    "start_time": "2024-02-07T07:16:25.081Z"
   },
   {
    "duration": 72,
    "start_time": "2024-02-07T07:16:25.093Z"
   },
   {
    "duration": 92,
    "start_time": "2024-02-07T07:16:25.168Z"
   },
   {
    "duration": 8,
    "start_time": "2024-02-07T07:16:25.261Z"
   },
   {
    "duration": 12,
    "start_time": "2024-02-07T07:16:25.271Z"
   },
   {
    "duration": 20,
    "start_time": "2024-02-07T07:16:25.285Z"
   },
   {
    "duration": 8,
    "start_time": "2024-02-07T08:18:03.565Z"
   },
   {
    "duration": 77,
    "start_time": "2024-02-07T08:30:51.219Z"
   },
   {
    "duration": 6,
    "start_time": "2024-02-07T08:31:00.300Z"
   },
   {
    "duration": 7,
    "start_time": "2024-02-07T08:31:58.780Z"
   },
   {
    "duration": 6,
    "start_time": "2024-02-07T08:32:13.835Z"
   },
   {
    "duration": 7,
    "start_time": "2024-02-07T08:32:28.954Z"
   },
   {
    "duration": 110,
    "start_time": "2024-02-07T11:04:44.718Z"
   },
   {
    "duration": 3,
    "start_time": "2024-02-07T11:04:48.572Z"
   },
   {
    "duration": 9,
    "start_time": "2024-02-07T11:04:50.800Z"
   },
   {
    "duration": 3,
    "start_time": "2024-02-07T11:05:58.447Z"
   },
   {
    "duration": 3,
    "start_time": "2024-02-07T11:06:00.728Z"
   },
   {
    "duration": 3,
    "start_time": "2024-02-07T11:06:02.593Z"
   },
   {
    "duration": 4,
    "start_time": "2024-02-07T11:19:08.496Z"
   },
   {
    "duration": 4,
    "start_time": "2024-02-07T11:19:15.080Z"
   },
   {
    "duration": 1163,
    "start_time": "2024-02-08T07:39:24.582Z"
   },
   {
    "duration": 1646,
    "start_time": "2024-02-08T07:39:25.746Z"
   },
   {
    "duration": 18,
    "start_time": "2024-02-08T07:39:27.395Z"
   },
   {
    "duration": 10,
    "start_time": "2024-02-08T07:39:27.416Z"
   },
   {
    "duration": 14,
    "start_time": "2024-02-08T07:39:27.427Z"
   },
   {
    "duration": 21,
    "start_time": "2024-02-08T07:39:27.443Z"
   },
   {
    "duration": 34,
    "start_time": "2024-02-08T07:39:27.466Z"
   },
   {
    "duration": 17,
    "start_time": "2024-02-08T07:39:27.502Z"
   },
   {
    "duration": 23,
    "start_time": "2024-02-08T07:39:27.520Z"
   },
   {
    "duration": 46,
    "start_time": "2024-02-08T07:39:27.546Z"
   },
   {
    "duration": 25,
    "start_time": "2024-02-08T07:39:27.594Z"
   },
   {
    "duration": 87,
    "start_time": "2024-02-08T07:39:27.620Z"
   },
   {
    "duration": 3,
    "start_time": "2024-02-08T07:39:27.708Z"
   },
   {
    "duration": 4,
    "start_time": "2024-02-08T07:39:27.712Z"
   },
   {
    "duration": 20,
    "start_time": "2024-02-08T07:39:27.718Z"
   },
   {
    "duration": 16,
    "start_time": "2024-02-08T07:39:27.739Z"
   },
   {
    "duration": 140,
    "start_time": "2024-02-08T07:39:27.756Z"
   },
   {
    "duration": 5,
    "start_time": "2024-02-08T07:39:27.898Z"
   },
   {
    "duration": 14,
    "start_time": "2024-02-08T07:39:27.905Z"
   },
   {
    "duration": 9,
    "start_time": "2024-02-08T07:39:27.920Z"
   },
   {
    "duration": 93,
    "start_time": "2024-02-08T07:39:27.931Z"
   },
   {
    "duration": 44,
    "start_time": "2024-02-08T07:39:28.026Z"
   },
   {
    "duration": 27,
    "start_time": "2024-02-08T07:39:28.072Z"
   },
   {
    "duration": 92,
    "start_time": "2024-02-08T07:39:28.100Z"
   },
   {
    "duration": 96,
    "start_time": "2024-02-08T07:39:28.195Z"
   },
   {
    "duration": 5,
    "start_time": "2024-02-08T07:39:28.293Z"
   },
   {
    "duration": 13,
    "start_time": "2024-02-08T07:39:28.299Z"
   },
   {
    "duration": 13,
    "start_time": "2024-02-08T07:39:28.315Z"
   },
   {
    "duration": 25,
    "start_time": "2024-02-08T07:39:28.329Z"
   },
   {
    "duration": 7,
    "start_time": "2024-02-08T07:39:28.356Z"
   },
   {
    "duration": 4,
    "start_time": "2024-02-08T07:39:28.365Z"
   },
   {
    "duration": 33,
    "start_time": "2024-02-08T07:39:28.371Z"
   },
   {
    "duration": 6,
    "start_time": "2024-02-08T07:39:28.406Z"
   },
   {
    "duration": 5,
    "start_time": "2024-02-08T07:39:28.413Z"
   },
   {
    "duration": 1086,
    "start_time": "2024-02-08T13:18:14.532Z"
   },
   {
    "duration": 438,
    "start_time": "2024-02-08T13:18:15.620Z"
   },
   {
    "duration": 21,
    "start_time": "2024-02-08T13:18:16.060Z"
   },
   {
    "duration": 27,
    "start_time": "2024-02-08T13:18:16.083Z"
   },
   {
    "duration": 21,
    "start_time": "2024-02-08T13:18:16.113Z"
   },
   {
    "duration": 25,
    "start_time": "2024-02-08T13:18:16.136Z"
   },
   {
    "duration": 14,
    "start_time": "2024-02-08T13:18:16.162Z"
   },
   {
    "duration": 15,
    "start_time": "2024-02-08T13:18:16.178Z"
   },
   {
    "duration": 33,
    "start_time": "2024-02-08T13:18:16.195Z"
   },
   {
    "duration": 29,
    "start_time": "2024-02-08T13:18:16.229Z"
   },
   {
    "duration": 21,
    "start_time": "2024-02-08T13:18:16.260Z"
   },
   {
    "duration": 77,
    "start_time": "2024-02-08T13:18:16.283Z"
   },
   {
    "duration": 3,
    "start_time": "2024-02-08T13:18:16.362Z"
   },
   {
    "duration": 22,
    "start_time": "2024-02-08T13:18:16.368Z"
   },
   {
    "duration": 23,
    "start_time": "2024-02-08T13:18:16.392Z"
   },
   {
    "duration": 16,
    "start_time": "2024-02-08T13:18:16.416Z"
   },
   {
    "duration": 7,
    "start_time": "2024-02-08T13:18:16.433Z"
   },
   {
    "duration": 147,
    "start_time": "2024-02-08T13:18:16.445Z"
   },
   {
    "duration": 7,
    "start_time": "2024-02-08T13:18:16.594Z"
   },
   {
    "duration": 22,
    "start_time": "2024-02-08T13:18:16.603Z"
   },
   {
    "duration": 15,
    "start_time": "2024-02-08T13:18:16.627Z"
   },
   {
    "duration": 41,
    "start_time": "2024-02-08T13:18:16.644Z"
   },
   {
    "duration": 23,
    "start_time": "2024-02-08T13:18:16.686Z"
   },
   {
    "duration": 9,
    "start_time": "2024-02-08T13:18:16.710Z"
   },
   {
    "duration": 171,
    "start_time": "2024-02-08T13:18:16.721Z"
   },
   {
    "duration": 4,
    "start_time": "2024-02-08T13:18:16.894Z"
   },
   {
    "duration": 23,
    "start_time": "2024-02-08T13:18:16.900Z"
   },
   {
    "duration": 33,
    "start_time": "2024-02-08T13:18:16.925Z"
   },
   {
    "duration": 20,
    "start_time": "2024-02-08T13:18:16.960Z"
   },
   {
    "duration": 8,
    "start_time": "2024-02-08T13:18:16.981Z"
   },
   {
    "duration": 10,
    "start_time": "2024-02-08T13:18:16.991Z"
   },
   {
    "duration": 9,
    "start_time": "2024-02-08T13:18:17.002Z"
   },
   {
    "duration": 8,
    "start_time": "2024-02-08T13:18:17.012Z"
   },
   {
    "duration": 10,
    "start_time": "2024-02-08T13:18:17.021Z"
   },
   {
    "duration": 4,
    "start_time": "2024-02-08T15:32:55.663Z"
   },
   {
    "duration": 7,
    "start_time": "2024-02-08T16:00:30.278Z"
   },
   {
    "duration": 5,
    "start_time": "2024-02-08T16:00:32.961Z"
   },
   {
    "duration": 122,
    "start_time": "2024-02-08T16:01:43.239Z"
   },
   {
    "duration": 1288,
    "start_time": "2024-02-08T16:01:52.268Z"
   },
   {
    "duration": 455,
    "start_time": "2024-02-08T16:01:53.558Z"
   },
   {
    "duration": 28,
    "start_time": "2024-02-08T16:01:54.015Z"
   },
   {
    "duration": 11,
    "start_time": "2024-02-08T16:01:54.046Z"
   },
   {
    "duration": 21,
    "start_time": "2024-02-08T16:01:54.059Z"
   },
   {
    "duration": 40,
    "start_time": "2024-02-08T16:01:54.081Z"
   },
   {
    "duration": 21,
    "start_time": "2024-02-08T16:01:54.123Z"
   },
   {
    "duration": 50,
    "start_time": "2024-02-08T16:01:54.145Z"
   },
   {
    "duration": 34,
    "start_time": "2024-02-08T16:01:54.199Z"
   },
   {
    "duration": 49,
    "start_time": "2024-02-08T16:01:54.235Z"
   },
   {
    "duration": 33,
    "start_time": "2024-02-08T16:01:54.287Z"
   },
   {
    "duration": 103,
    "start_time": "2024-02-08T16:01:54.322Z"
   },
   {
    "duration": 3,
    "start_time": "2024-02-08T16:01:54.427Z"
   },
   {
    "duration": 12,
    "start_time": "2024-02-08T16:01:54.434Z"
   },
   {
    "duration": 41,
    "start_time": "2024-02-08T16:01:54.448Z"
   },
   {
    "duration": 28,
    "start_time": "2024-02-08T16:01:54.491Z"
   },
   {
    "duration": 10,
    "start_time": "2024-02-08T16:01:54.521Z"
   },
   {
    "duration": 89,
    "start_time": "2024-02-08T16:01:54.608Z"
   },
   {
    "duration": 20,
    "start_time": "2024-02-08T16:01:54.700Z"
   },
   {
    "duration": 4,
    "start_time": "2024-02-08T16:01:54.722Z"
   },
   {
    "duration": 23,
    "start_time": "2024-02-08T16:01:54.728Z"
   },
   {
    "duration": 53,
    "start_time": "2024-02-08T16:01:54.753Z"
   },
   {
    "duration": 25,
    "start_time": "2024-02-08T16:01:54.809Z"
   },
   {
    "duration": 64,
    "start_time": "2024-02-08T16:01:54.836Z"
   },
   {
    "duration": 94,
    "start_time": "2024-02-08T16:01:54.903Z"
   },
   {
    "duration": 9,
    "start_time": "2024-02-08T16:01:55.000Z"
   },
   {
    "duration": 83,
    "start_time": "2024-02-08T16:01:55.012Z"
   },
   {
    "duration": 44,
    "start_time": "2024-02-08T16:01:55.098Z"
   },
   {
    "duration": 28,
    "start_time": "2024-02-08T16:01:55.144Z"
   },
   {
    "duration": 30,
    "start_time": "2024-02-08T16:01:55.174Z"
   },
   {
    "duration": 4,
    "start_time": "2024-02-08T16:01:55.209Z"
   },
   {
    "duration": 59,
    "start_time": "2024-02-08T16:01:55.215Z"
   },
   {
    "duration": 40,
    "start_time": "2024-02-08T16:01:55.276Z"
   },
   {
    "duration": 39,
    "start_time": "2024-02-08T16:01:55.318Z"
   },
   {
    "duration": 49,
    "start_time": "2024-02-08T16:01:55.359Z"
   },
   {
    "duration": 189,
    "start_time": "2024-02-08T16:01:55.411Z"
   },
   {
    "duration": 1009,
    "start_time": "2024-02-09T06:38:19.893Z"
   },
   {
    "duration": 753,
    "start_time": "2024-02-09T06:38:20.904Z"
   },
   {
    "duration": 16,
    "start_time": "2024-02-09T06:38:21.661Z"
   },
   {
    "duration": 12,
    "start_time": "2024-02-09T06:38:21.679Z"
   },
   {
    "duration": 9,
    "start_time": "2024-02-09T06:38:21.693Z"
   },
   {
    "duration": 33,
    "start_time": "2024-02-09T06:38:21.704Z"
   },
   {
    "duration": 13,
    "start_time": "2024-02-09T06:38:21.738Z"
   },
   {
    "duration": 17,
    "start_time": "2024-02-09T06:38:21.753Z"
   },
   {
    "duration": 20,
    "start_time": "2024-02-09T06:38:21.772Z"
   },
   {
    "duration": 41,
    "start_time": "2024-02-09T06:38:21.794Z"
   },
   {
    "duration": 17,
    "start_time": "2024-02-09T06:38:21.836Z"
   },
   {
    "duration": 60,
    "start_time": "2024-02-09T06:38:21.854Z"
   },
   {
    "duration": 3,
    "start_time": "2024-02-09T06:38:21.933Z"
   },
   {
    "duration": 4,
    "start_time": "2024-02-09T06:38:21.937Z"
   },
   {
    "duration": 15,
    "start_time": "2024-02-09T06:38:21.942Z"
   },
   {
    "duration": 14,
    "start_time": "2024-02-09T06:38:21.958Z"
   },
   {
    "duration": 62,
    "start_time": "2024-02-09T06:38:21.973Z"
   },
   {
    "duration": 97,
    "start_time": "2024-02-09T06:38:22.037Z"
   },
   {
    "duration": 3,
    "start_time": "2024-02-09T06:38:22.135Z"
   },
   {
    "duration": 5,
    "start_time": "2024-02-09T06:38:22.140Z"
   },
   {
    "duration": 17,
    "start_time": "2024-02-09T06:38:22.146Z"
   },
   {
    "duration": 32,
    "start_time": "2024-02-09T06:38:22.165Z"
   },
   {
    "duration": 35,
    "start_time": "2024-02-09T06:38:22.199Z"
   },
   {
    "duration": 9,
    "start_time": "2024-02-09T06:38:22.236Z"
   },
   {
    "duration": 91,
    "start_time": "2024-02-09T06:38:22.249Z"
   },
   {
    "duration": 94,
    "start_time": "2024-02-09T06:38:22.342Z"
   },
   {
    "duration": 4,
    "start_time": "2024-02-09T06:38:22.437Z"
   },
   {
    "duration": 7,
    "start_time": "2024-02-09T06:38:22.443Z"
   },
   {
    "duration": 17,
    "start_time": "2024-02-09T06:38:22.451Z"
   },
   {
    "duration": 6,
    "start_time": "2024-02-09T06:38:22.469Z"
   },
   {
    "duration": 2,
    "start_time": "2024-02-09T06:38:22.476Z"
   },
   {
    "duration": 5,
    "start_time": "2024-02-09T06:38:22.480Z"
   },
   {
    "duration": 4,
    "start_time": "2024-02-09T06:38:22.487Z"
   },
   {
    "duration": 4,
    "start_time": "2024-02-09T06:38:22.492Z"
   },
   {
    "duration": 37,
    "start_time": "2024-02-09T06:38:22.497Z"
   },
   {
    "duration": 104,
    "start_time": "2024-02-09T06:38:22.536Z"
   },
   {
    "duration": 1241,
    "start_time": "2024-02-09T06:58:27.706Z"
   },
   {
    "duration": 12,
    "start_time": "2024-02-09T07:00:04.225Z"
   },
   {
    "duration": 1223,
    "start_time": "2024-02-09T07:00:21.792Z"
   },
   {
    "duration": 9,
    "start_time": "2024-02-09T07:34:17.180Z"
   },
   {
    "duration": 1235,
    "start_time": "2024-02-09T07:34:40.005Z"
   },
   {
    "duration": 1282,
    "start_time": "2024-02-09T07:36:58.613Z"
   },
   {
    "duration": 3,
    "start_time": "2024-02-09T07:38:08.108Z"
   },
   {
    "duration": 3,
    "start_time": "2024-02-09T07:38:11.131Z"
   },
   {
    "duration": 4,
    "start_time": "2024-02-09T07:38:53.590Z"
   },
   {
    "duration": 4,
    "start_time": "2024-02-09T07:38:55.659Z"
   },
   {
    "duration": 1065,
    "start_time": "2024-02-09T07:38:58.395Z"
   },
   {
    "duration": 1102,
    "start_time": "2024-02-09T07:43:11.326Z"
   },
   {
    "duration": 417,
    "start_time": "2024-02-09T07:43:12.430Z"
   },
   {
    "duration": 15,
    "start_time": "2024-02-09T07:43:12.848Z"
   },
   {
    "duration": 38,
    "start_time": "2024-02-09T07:43:12.865Z"
   },
   {
    "duration": 35,
    "start_time": "2024-02-09T07:43:12.904Z"
   },
   {
    "duration": 23,
    "start_time": "2024-02-09T07:43:12.940Z"
   },
   {
    "duration": 45,
    "start_time": "2024-02-09T07:43:12.965Z"
   },
   {
    "duration": 33,
    "start_time": "2024-02-09T07:43:13.012Z"
   },
   {
    "duration": 38,
    "start_time": "2024-02-09T07:43:13.046Z"
   },
   {
    "duration": 20,
    "start_time": "2024-02-09T07:43:13.085Z"
   },
   {
    "duration": 20,
    "start_time": "2024-02-09T07:43:13.107Z"
   },
   {
    "duration": 74,
    "start_time": "2024-02-09T07:43:13.132Z"
   },
   {
    "duration": 2,
    "start_time": "2024-02-09T07:43:13.208Z"
   },
   {
    "duration": 23,
    "start_time": "2024-02-09T07:43:13.213Z"
   },
   {
    "duration": 26,
    "start_time": "2024-02-09T07:43:13.237Z"
   },
   {
    "duration": 16,
    "start_time": "2024-02-09T07:43:13.264Z"
   },
   {
    "duration": 13,
    "start_time": "2024-02-09T07:43:13.281Z"
   },
   {
    "duration": 38,
    "start_time": "2024-02-09T07:43:13.299Z"
   },
   {
    "duration": 95,
    "start_time": "2024-02-09T07:43:13.340Z"
   },
   {
    "duration": 22,
    "start_time": "2024-02-09T07:43:13.437Z"
   },
   {
    "duration": 28,
    "start_time": "2024-02-09T07:43:13.461Z"
   },
   {
    "duration": 41,
    "start_time": "2024-02-09T07:43:13.491Z"
   },
   {
    "duration": 22,
    "start_time": "2024-02-09T07:43:13.534Z"
   },
   {
    "duration": 9,
    "start_time": "2024-02-09T07:43:13.557Z"
   },
   {
    "duration": 168,
    "start_time": "2024-02-09T07:43:13.568Z"
   },
   {
    "duration": 18,
    "start_time": "2024-02-09T07:43:13.738Z"
   },
   {
    "duration": 22,
    "start_time": "2024-02-09T07:43:13.758Z"
   },
   {
    "duration": 32,
    "start_time": "2024-02-09T07:43:13.782Z"
   },
   {
    "duration": 34,
    "start_time": "2024-02-09T07:43:13.816Z"
   },
   {
    "duration": 26,
    "start_time": "2024-02-09T07:43:13.852Z"
   },
   {
    "duration": 14,
    "start_time": "2024-02-09T07:43:13.880Z"
   },
   {
    "duration": 37,
    "start_time": "2024-02-09T07:43:13.895Z"
   },
   {
    "duration": 15,
    "start_time": "2024-02-09T07:43:13.934Z"
   },
   {
    "duration": 30,
    "start_time": "2024-02-09T07:43:13.951Z"
   },
   {
    "duration": 30,
    "start_time": "2024-02-09T07:43:13.982Z"
   },
   {
    "duration": 1061,
    "start_time": "2024-02-09T07:43:14.014Z"
   },
   {
    "duration": 1036,
    "start_time": "2024-02-09T07:48:58.142Z"
   },
   {
    "duration": 3,
    "start_time": "2024-02-09T10:57:01.785Z"
   },
   {
    "duration": 4,
    "start_time": "2024-02-09T10:57:03.568Z"
   },
   {
    "duration": 1077,
    "start_time": "2024-02-09T10:57:05.808Z"
   },
   {
    "duration": 1036,
    "start_time": "2024-02-09T11:52:10.599Z"
   },
   {
    "duration": 103,
    "start_time": "2024-02-09T11:52:27.078Z"
   },
   {
    "duration": 1044,
    "start_time": "2024-02-09T11:52:43.549Z"
   },
   {
    "duration": 3,
    "start_time": "2024-02-09T12:19:32.083Z"
   },
   {
    "duration": 6,
    "start_time": "2024-02-09T12:19:33.930Z"
   },
   {
    "duration": 998,
    "start_time": "2024-02-09T12:19:36.449Z"
   },
   {
    "duration": 1070,
    "start_time": "2024-02-09T12:19:42.652Z"
   },
   {
    "duration": 416,
    "start_time": "2024-02-09T12:19:43.724Z"
   },
   {
    "duration": 15,
    "start_time": "2024-02-09T12:19:44.142Z"
   },
   {
    "duration": 8,
    "start_time": "2024-02-09T12:19:44.158Z"
   },
   {
    "duration": 8,
    "start_time": "2024-02-09T12:19:44.169Z"
   },
   {
    "duration": 14,
    "start_time": "2024-02-09T12:19:44.178Z"
   },
   {
    "duration": 43,
    "start_time": "2024-02-09T12:19:44.194Z"
   },
   {
    "duration": 16,
    "start_time": "2024-02-09T12:19:44.239Z"
   },
   {
    "duration": 20,
    "start_time": "2024-02-09T12:19:44.257Z"
   },
   {
    "duration": 28,
    "start_time": "2024-02-09T12:19:44.279Z"
   },
   {
    "duration": 22,
    "start_time": "2024-02-09T12:19:44.333Z"
   },
   {
    "duration": 59,
    "start_time": "2024-02-09T12:19:44.356Z"
   },
   {
    "duration": 2,
    "start_time": "2024-02-09T12:19:44.417Z"
   },
   {
    "duration": 3,
    "start_time": "2024-02-09T12:19:44.434Z"
   },
   {
    "duration": 14,
    "start_time": "2024-02-09T12:19:44.438Z"
   },
   {
    "duration": 16,
    "start_time": "2024-02-09T12:19:44.454Z"
   },
   {
    "duration": 62,
    "start_time": "2024-02-09T12:19:44.472Z"
   },
   {
    "duration": 6,
    "start_time": "2024-02-09T12:19:44.537Z"
   },
   {
    "duration": 4,
    "start_time": "2024-02-09T12:19:44.632Z"
   },
   {
    "duration": 6,
    "start_time": "2024-02-09T12:19:44.638Z"
   },
   {
    "duration": 12,
    "start_time": "2024-02-09T12:19:44.646Z"
   },
   {
    "duration": 26,
    "start_time": "2024-02-09T12:19:44.659Z"
   },
   {
    "duration": 20,
    "start_time": "2024-02-09T12:19:44.732Z"
   },
   {
    "duration": 12,
    "start_time": "2024-02-09T12:19:44.754Z"
   },
   {
    "duration": 7,
    "start_time": "2024-02-09T12:19:44.834Z"
   },
   {
    "duration": 91,
    "start_time": "2024-02-09T12:19:44.843Z"
   },
   {
    "duration": 6,
    "start_time": "2024-02-09T12:19:44.935Z"
   },
   {
    "duration": 17,
    "start_time": "2024-02-09T12:19:44.943Z"
   },
   {
    "duration": 7,
    "start_time": "2024-02-09T12:19:44.961Z"
   },
   {
    "duration": 11,
    "start_time": "2024-02-09T12:19:44.969Z"
   },
   {
    "duration": 2,
    "start_time": "2024-02-09T12:19:44.981Z"
   },
   {
    "duration": 4,
    "start_time": "2024-02-09T12:19:44.985Z"
   },
   {
    "duration": 6,
    "start_time": "2024-02-09T12:19:44.990Z"
   },
   {
    "duration": 37,
    "start_time": "2024-02-09T12:19:44.997Z"
   },
   {
    "duration": 17,
    "start_time": "2024-02-09T12:19:45.035Z"
   },
   {
    "duration": 1038,
    "start_time": "2024-02-09T12:19:45.053Z"
   },
   {
    "duration": 1009,
    "start_time": "2024-02-09T12:19:46.093Z"
   },
   {
    "duration": 968,
    "start_time": "2024-02-09T12:19:47.103Z"
   },
   {
    "duration": 7,
    "start_time": "2024-02-09T13:02:16.245Z"
   },
   {
    "duration": 1107,
    "start_time": "2024-02-09T13:02:17.955Z"
   },
   {
    "duration": 5,
    "start_time": "2024-02-09T13:02:38.300Z"
   },
   {
    "duration": 1079,
    "start_time": "2024-02-09T13:02:40.507Z"
   },
   {
    "duration": 1135,
    "start_time": "2024-02-09T13:11:02.604Z"
   },
   {
    "duration": 1217,
    "start_time": "2024-02-09T13:11:08.500Z"
   },
   {
    "duration": 4,
    "start_time": "2024-02-09T13:12:41.516Z"
   },
   {
    "duration": 1092,
    "start_time": "2024-02-09T13:12:43.027Z"
   },
   {
    "duration": 1040,
    "start_time": "2024-02-09T13:12:46.325Z"
   },
   {
    "duration": 1105,
    "start_time": "2024-02-09T13:12:48.172Z"
   },
   {
    "duration": 1078,
    "start_time": "2024-02-09T13:13:31.372Z"
   },
   {
    "duration": 1100,
    "start_time": "2024-02-09T13:13:41.308Z"
   },
   {
    "duration": 1088,
    "start_time": "2024-02-09T13:14:54.891Z"
   },
   {
    "duration": 1145,
    "start_time": "2024-02-09T13:15:14.258Z"
   },
   {
    "duration": 75,
    "start_time": "2024-02-09T13:41:30.627Z"
   },
   {
    "duration": 1043,
    "start_time": "2024-02-09T13:41:41.362Z"
   },
   {
    "duration": 992,
    "start_time": "2024-02-09T13:43:45.385Z"
   },
   {
    "duration": 1015,
    "start_time": "2024-02-09T13:44:32.945Z"
   },
   {
    "duration": 1078,
    "start_time": "2024-02-09T14:03:24.850Z"
   },
   {
    "duration": 433,
    "start_time": "2024-02-09T14:03:25.930Z"
   },
   {
    "duration": 16,
    "start_time": "2024-02-09T14:03:26.364Z"
   },
   {
    "duration": 8,
    "start_time": "2024-02-09T14:03:26.382Z"
   },
   {
    "duration": 9,
    "start_time": "2024-02-09T14:03:26.391Z"
   },
   {
    "duration": 25,
    "start_time": "2024-02-09T14:03:26.402Z"
   },
   {
    "duration": 24,
    "start_time": "2024-02-09T14:03:26.429Z"
   },
   {
    "duration": 14,
    "start_time": "2024-02-09T14:03:26.454Z"
   },
   {
    "duration": 21,
    "start_time": "2024-02-09T14:03:26.469Z"
   },
   {
    "duration": 22,
    "start_time": "2024-02-09T14:03:26.492Z"
   },
   {
    "duration": 28,
    "start_time": "2024-02-09T14:03:26.532Z"
   },
   {
    "duration": 59,
    "start_time": "2024-02-09T14:03:26.561Z"
   },
   {
    "duration": 8,
    "start_time": "2024-02-09T14:03:26.632Z"
   },
   {
    "duration": 8,
    "start_time": "2024-02-09T14:03:26.641Z"
   },
   {
    "duration": 17,
    "start_time": "2024-02-09T14:03:26.651Z"
   },
   {
    "duration": 13,
    "start_time": "2024-02-09T14:03:26.669Z"
   },
   {
    "duration": 50,
    "start_time": "2024-02-09T14:03:26.684Z"
   },
   {
    "duration": 15,
    "start_time": "2024-02-09T14:03:26.737Z"
   },
   {
    "duration": 79,
    "start_time": "2024-02-09T14:03:26.755Z"
   },
   {
    "duration": 6,
    "start_time": "2024-02-09T14:03:26.837Z"
   },
   {
    "duration": 15,
    "start_time": "2024-02-09T14:03:26.846Z"
   },
   {
    "duration": 27,
    "start_time": "2024-02-09T14:03:26.862Z"
   },
   {
    "duration": 21,
    "start_time": "2024-02-09T14:03:26.891Z"
   },
   {
    "duration": 11,
    "start_time": "2024-02-09T14:03:26.932Z"
   },
   {
    "duration": 6,
    "start_time": "2024-02-09T14:03:26.945Z"
   },
   {
    "duration": 82,
    "start_time": "2024-02-09T14:03:26.953Z"
   },
   {
    "duration": 6,
    "start_time": "2024-02-09T14:03:27.037Z"
   },
   {
    "duration": 89,
    "start_time": "2024-02-09T14:03:27.052Z"
   },
   {
    "duration": 9,
    "start_time": "2024-02-09T14:03:27.143Z"
   },
   {
    "duration": 6,
    "start_time": "2024-02-09T14:03:27.154Z"
   },
   {
    "duration": 3,
    "start_time": "2024-02-09T14:03:27.162Z"
   },
   {
    "duration": 5,
    "start_time": "2024-02-09T14:03:27.167Z"
   },
   {
    "duration": 16,
    "start_time": "2024-02-09T14:03:27.173Z"
   },
   {
    "duration": 4,
    "start_time": "2024-02-09T14:03:27.191Z"
   },
   {
    "duration": 43,
    "start_time": "2024-02-09T14:03:27.197Z"
   },
   {
    "duration": 1145,
    "start_time": "2024-02-09T14:03:27.242Z"
   },
   {
    "duration": 1101,
    "start_time": "2024-02-09T14:03:28.389Z"
   },
   {
    "duration": 1120,
    "start_time": "2024-02-09T14:03:29.491Z"
   },
   {
    "duration": 1038,
    "start_time": "2024-02-11T12:48:54.769Z"
   },
   {
    "duration": 396,
    "start_time": "2024-02-11T12:48:55.808Z"
   },
   {
    "duration": 15,
    "start_time": "2024-02-11T12:48:56.206Z"
   },
   {
    "duration": 12,
    "start_time": "2024-02-11T12:48:56.222Z"
   },
   {
    "duration": 8,
    "start_time": "2024-02-11T12:48:56.236Z"
   },
   {
    "duration": 14,
    "start_time": "2024-02-11T12:48:56.245Z"
   },
   {
    "duration": 12,
    "start_time": "2024-02-11T12:48:56.260Z"
   },
   {
    "duration": 18,
    "start_time": "2024-02-11T12:48:56.273Z"
   },
   {
    "duration": 46,
    "start_time": "2024-02-11T12:48:56.292Z"
   },
   {
    "duration": 17,
    "start_time": "2024-02-11T12:48:56.340Z"
   },
   {
    "duration": 35,
    "start_time": "2024-02-11T12:48:56.358Z"
   },
   {
    "duration": 66,
    "start_time": "2024-02-11T12:48:56.394Z"
   },
   {
    "duration": 2,
    "start_time": "2024-02-11T12:48:56.461Z"
   },
   {
    "duration": 16,
    "start_time": "2024-02-11T12:48:56.465Z"
   },
   {
    "duration": 15,
    "start_time": "2024-02-11T12:48:56.482Z"
   },
   {
    "duration": 13,
    "start_time": "2024-02-11T12:48:56.499Z"
   },
   {
    "duration": 4,
    "start_time": "2024-02-11T12:48:56.513Z"
   },
   {
    "duration": 98,
    "start_time": "2024-02-11T12:48:56.537Z"
   },
   {
    "duration": 4,
    "start_time": "2024-02-11T12:48:56.638Z"
   },
   {
    "duration": 12,
    "start_time": "2024-02-11T12:48:56.650Z"
   },
   {
    "duration": 77,
    "start_time": "2024-02-11T12:48:56.664Z"
   },
   {
    "duration": 25,
    "start_time": "2024-02-11T12:48:56.742Z"
   },
   {
    "duration": 20,
    "start_time": "2024-02-11T12:48:56.769Z"
   },
   {
    "duration": 47,
    "start_time": "2024-02-11T12:48:56.790Z"
   },
   {
    "duration": 95,
    "start_time": "2024-02-11T12:48:56.839Z"
   },
   {
    "duration": 5,
    "start_time": "2024-02-11T12:48:56.936Z"
   },
   {
    "duration": 4,
    "start_time": "2024-02-11T12:48:57.034Z"
   },
   {
    "duration": 7,
    "start_time": "2024-02-11T12:48:57.040Z"
   },
   {
    "duration": 7,
    "start_time": "2024-02-11T12:48:57.049Z"
   },
   {
    "duration": 5,
    "start_time": "2024-02-11T12:48:57.057Z"
   },
   {
    "duration": 9,
    "start_time": "2024-02-11T12:48:57.063Z"
   },
   {
    "duration": 6,
    "start_time": "2024-02-11T12:48:57.073Z"
   },
   {
    "duration": 3,
    "start_time": "2024-02-11T12:48:57.080Z"
   },
   {
    "duration": 3,
    "start_time": "2024-02-11T12:48:57.085Z"
   },
   {
    "duration": 5,
    "start_time": "2024-02-11T12:48:57.089Z"
   },
   {
    "duration": 1071,
    "start_time": "2024-02-11T12:48:57.095Z"
   },
   {
    "duration": 1002,
    "start_time": "2024-02-11T12:48:58.167Z"
   },
   {
    "duration": 1007,
    "start_time": "2024-02-11T12:48:59.170Z"
   },
   {
    "duration": 70,
    "start_time": "2024-02-11T12:54:19.450Z"
   },
   {
    "duration": 3079,
    "start_time": "2024-02-11T12:54:26.301Z"
   },
   {
    "duration": 99,
    "start_time": "2024-02-11T12:58:08.521Z"
   },
   {
    "duration": 46552,
    "start_time": "2024-02-11T12:58:21.625Z"
   },
   {
    "duration": 55414,
    "start_time": "2024-02-11T12:59:45.945Z"
   },
   {
    "duration": 2391,
    "start_time": "2024-02-11T13:25:10.320Z"
   },
   {
    "duration": 29540,
    "start_time": "2024-02-11T13:25:54.729Z"
   },
   {
    "duration": 3417,
    "start_time": "2024-02-11T13:31:06.317Z"
   },
   {
    "duration": 394,
    "start_time": "2024-02-11T13:31:09.736Z"
   },
   {
    "duration": 17,
    "start_time": "2024-02-11T13:31:10.131Z"
   },
   {
    "duration": 25,
    "start_time": "2024-02-11T13:31:10.150Z"
   },
   {
    "duration": 24,
    "start_time": "2024-02-11T13:31:10.177Z"
   },
   {
    "duration": 44,
    "start_time": "2024-02-11T13:31:10.203Z"
   },
   {
    "duration": 16,
    "start_time": "2024-02-11T13:31:10.248Z"
   },
   {
    "duration": 39,
    "start_time": "2024-02-11T13:31:10.266Z"
   },
   {
    "duration": 21,
    "start_time": "2024-02-11T13:31:10.307Z"
   },
   {
    "duration": 22,
    "start_time": "2024-02-11T13:31:10.332Z"
   },
   {
    "duration": 33,
    "start_time": "2024-02-11T13:31:10.355Z"
   },
   {
    "duration": 71,
    "start_time": "2024-02-11T13:31:10.389Z"
   },
   {
    "duration": 3,
    "start_time": "2024-02-11T13:31:10.462Z"
   },
   {
    "duration": 25,
    "start_time": "2024-02-11T13:31:10.467Z"
   },
   {
    "duration": 46734,
    "start_time": "2024-02-11T13:31:10.494Z"
   },
   {
    "duration": 55260,
    "start_time": "2024-02-11T13:31:57.229Z"
   },
   {
    "duration": 30316,
    "start_time": "2024-02-11T13:32:52.491Z"
   },
   {
    "duration": 10,
    "start_time": "2024-02-11T13:33:22.808Z"
   },
   {
    "duration": 46,
    "start_time": "2024-02-11T13:33:22.820Z"
   },
   {
    "duration": 166,
    "start_time": "2024-02-11T13:33:22.868Z"
   },
   {
    "duration": 5,
    "start_time": "2024-02-11T13:33:23.036Z"
   },
   {
    "duration": 91,
    "start_time": "2024-02-11T13:33:23.043Z"
   },
   {
    "duration": 3,
    "start_time": "2024-02-11T13:33:23.136Z"
   },
   {
    "duration": 12,
    "start_time": "2024-02-11T13:33:23.141Z"
   },
   {
    "duration": 25,
    "start_time": "2024-02-11T13:33:23.155Z"
   },
   {
    "duration": 68,
    "start_time": "2024-02-11T13:33:23.181Z"
   },
   {
    "duration": 83,
    "start_time": "2024-02-11T13:33:23.251Z"
   },
   {
    "duration": 6,
    "start_time": "2024-02-11T13:33:23.339Z"
   },
   {
    "duration": 16,
    "start_time": "2024-02-11T13:33:23.434Z"
   },
   {
    "duration": 97,
    "start_time": "2024-02-11T13:33:23.452Z"
   },
   {
    "duration": 7,
    "start_time": "2024-02-11T13:33:23.551Z"
   },
   {
    "duration": 6,
    "start_time": "2024-02-11T13:33:23.560Z"
   },
   {
    "duration": 5,
    "start_time": "2024-02-11T13:33:23.568Z"
   },
   {
    "duration": 6,
    "start_time": "2024-02-11T13:33:23.575Z"
   },
   {
    "duration": 4,
    "start_time": "2024-02-11T13:33:23.583Z"
   },
   {
    "duration": 3,
    "start_time": "2024-02-11T13:33:23.588Z"
   },
   {
    "duration": 3,
    "start_time": "2024-02-11T13:33:23.593Z"
   },
   {
    "duration": 5,
    "start_time": "2024-02-11T13:33:23.598Z"
   },
   {
    "duration": 1033,
    "start_time": "2024-02-11T13:33:23.605Z"
   },
   {
    "duration": 959,
    "start_time": "2024-02-11T13:33:24.639Z"
   },
   {
    "duration": 999,
    "start_time": "2024-02-11T13:33:25.600Z"
   },
   {
    "duration": 3289,
    "start_time": "2024-02-11T13:35:31.962Z"
   },
   {
    "duration": 414,
    "start_time": "2024-02-11T13:35:35.254Z"
   },
   {
    "duration": 16,
    "start_time": "2024-02-11T13:35:35.669Z"
   },
   {
    "duration": 28,
    "start_time": "2024-02-11T13:35:35.686Z"
   },
   {
    "duration": 21,
    "start_time": "2024-02-11T13:35:35.716Z"
   },
   {
    "duration": 48,
    "start_time": "2024-02-11T13:35:35.739Z"
   },
   {
    "duration": 16,
    "start_time": "2024-02-11T13:35:35.789Z"
   },
   {
    "duration": 28,
    "start_time": "2024-02-11T13:35:35.807Z"
   },
   {
    "duration": 30,
    "start_time": "2024-02-11T13:35:35.836Z"
   },
   {
    "duration": 20,
    "start_time": "2024-02-11T13:35:35.869Z"
   },
   {
    "duration": 27,
    "start_time": "2024-02-11T13:35:35.891Z"
   },
   {
    "duration": 67,
    "start_time": "2024-02-11T13:35:35.920Z"
   },
   {
    "duration": 3,
    "start_time": "2024-02-11T13:35:35.988Z"
   },
   {
    "duration": 21,
    "start_time": "2024-02-11T13:35:35.992Z"
   },
   {
    "duration": 46204,
    "start_time": "2024-02-11T13:35:36.014Z"
   },
   {
    "duration": 54263,
    "start_time": "2024-02-11T13:36:22.220Z"
   },
   {
    "duration": 29603,
    "start_time": "2024-02-11T13:37:16.485Z"
   },
   {
    "duration": 11,
    "start_time": "2024-02-11T13:37:46.090Z"
   },
   {
    "duration": 11,
    "start_time": "2024-02-11T13:37:46.102Z"
   },
   {
    "duration": 105,
    "start_time": "2024-02-11T13:37:46.134Z"
   },
   {
    "duration": 93,
    "start_time": "2024-02-11T13:37:46.241Z"
   },
   {
    "duration": 3,
    "start_time": "2024-02-11T13:37:46.336Z"
   },
   {
    "duration": 5,
    "start_time": "2024-02-11T13:37:46.341Z"
   },
   {
    "duration": 10,
    "start_time": "2024-02-11T13:37:46.432Z"
   },
   {
    "duration": 26,
    "start_time": "2024-02-11T13:37:46.444Z"
   },
   {
    "duration": 16,
    "start_time": "2024-02-11T13:37:46.471Z"
   },
   {
    "duration": 45,
    "start_time": "2024-02-11T13:37:46.489Z"
   },
   {
    "duration": 98,
    "start_time": "2024-02-11T13:37:46.539Z"
   },
   {
    "duration": 95,
    "start_time": "2024-02-11T13:37:46.639Z"
   },
   {
    "duration": 4,
    "start_time": "2024-02-11T13:37:46.736Z"
   },
   {
    "duration": 7,
    "start_time": "2024-02-11T13:37:46.741Z"
   },
   {
    "duration": 8,
    "start_time": "2024-02-11T13:37:46.749Z"
   },
   {
    "duration": 5,
    "start_time": "2024-02-11T13:37:46.758Z"
   },
   {
    "duration": 3,
    "start_time": "2024-02-11T13:37:46.764Z"
   },
   {
    "duration": 4,
    "start_time": "2024-02-11T13:37:46.768Z"
   },
   {
    "duration": 4,
    "start_time": "2024-02-11T13:37:46.773Z"
   },
   {
    "duration": 3,
    "start_time": "2024-02-11T13:37:46.778Z"
   },
   {
    "duration": 4,
    "start_time": "2024-02-11T13:37:46.782Z"
   },
   {
    "duration": 1089,
    "start_time": "2024-02-11T13:37:46.788Z"
   },
   {
    "duration": 1091,
    "start_time": "2024-02-11T13:37:47.878Z"
   },
   {
    "duration": 1053,
    "start_time": "2024-02-11T13:37:48.970Z"
   },
   {
    "duration": 3307,
    "start_time": "2024-02-11T19:30:31.910Z"
   },
   {
    "duration": 394,
    "start_time": "2024-02-11T19:30:35.219Z"
   },
   {
    "duration": 19,
    "start_time": "2024-02-11T19:30:35.615Z"
   },
   {
    "duration": 8,
    "start_time": "2024-02-11T19:30:35.635Z"
   },
   {
    "duration": 18,
    "start_time": "2024-02-11T19:30:35.645Z"
   },
   {
    "duration": 16,
    "start_time": "2024-02-11T19:30:35.664Z"
   },
   {
    "duration": 13,
    "start_time": "2024-02-11T19:30:35.681Z"
   },
   {
    "duration": 44,
    "start_time": "2024-02-11T19:30:35.696Z"
   },
   {
    "duration": 18,
    "start_time": "2024-02-11T19:30:35.742Z"
   },
   {
    "duration": 19,
    "start_time": "2024-02-11T19:30:35.761Z"
   },
   {
    "duration": 20,
    "start_time": "2024-02-11T19:30:35.781Z"
   },
   {
    "duration": 92,
    "start_time": "2024-02-11T19:30:35.802Z"
   },
   {
    "duration": 3,
    "start_time": "2024-02-11T19:30:35.895Z"
   },
   {
    "duration": 3,
    "start_time": "2024-02-11T19:30:35.901Z"
   },
   {
    "duration": 45342,
    "start_time": "2024-02-11T19:30:35.905Z"
   },
   {
    "duration": 53769,
    "start_time": "2024-02-11T19:31:21.249Z"
   },
   {
    "duration": 29115,
    "start_time": "2024-02-11T19:32:15.020Z"
   },
   {
    "duration": 10,
    "start_time": "2024-02-11T19:32:44.136Z"
   },
   {
    "duration": 11,
    "start_time": "2024-02-11T19:32:44.148Z"
   },
   {
    "duration": 81,
    "start_time": "2024-02-11T19:32:44.161Z"
   },
   {
    "duration": 91,
    "start_time": "2024-02-11T19:32:44.244Z"
   },
   {
    "duration": 3,
    "start_time": "2024-02-11T19:32:44.337Z"
   },
   {
    "duration": 5,
    "start_time": "2024-02-11T19:32:44.342Z"
   },
   {
    "duration": 97,
    "start_time": "2024-02-11T19:32:44.349Z"
   },
   {
    "duration": 24,
    "start_time": "2024-02-11T19:32:44.448Z"
   },
   {
    "duration": 17,
    "start_time": "2024-02-11T19:32:44.473Z"
   },
   {
    "duration": 45,
    "start_time": "2024-02-11T19:32:44.492Z"
   },
   {
    "duration": 96,
    "start_time": "2024-02-11T19:32:44.539Z"
   },
   {
    "duration": 4,
    "start_time": "2024-02-11T19:32:44.638Z"
   },
   {
    "duration": 94,
    "start_time": "2024-02-11T19:32:44.643Z"
   },
   {
    "duration": 8,
    "start_time": "2024-02-11T19:32:44.738Z"
   },
   {
    "duration": 7,
    "start_time": "2024-02-11T19:32:44.748Z"
   },
   {
    "duration": 5,
    "start_time": "2024-02-11T19:32:44.756Z"
   },
   {
    "duration": 2,
    "start_time": "2024-02-11T19:32:44.763Z"
   },
   {
    "duration": 6,
    "start_time": "2024-02-11T19:32:44.766Z"
   },
   {
    "duration": 6,
    "start_time": "2024-02-11T19:32:44.773Z"
   },
   {
    "duration": 3,
    "start_time": "2024-02-11T19:32:44.780Z"
   },
   {
    "duration": 4,
    "start_time": "2024-02-11T19:32:44.785Z"
   },
   {
    "duration": 1077,
    "start_time": "2024-02-11T19:32:44.790Z"
   },
   {
    "duration": 966,
    "start_time": "2024-02-11T19:32:45.868Z"
   },
   {
    "duration": 1002,
    "start_time": "2024-02-11T19:32:46.837Z"
   },
   {
    "duration": 2309,
    "start_time": "2024-02-11T19:36:46.681Z"
   },
   {
    "duration": 582,
    "start_time": "2024-02-11T19:38:20.848Z"
   },
   {
    "duration": 427,
    "start_time": "2024-02-11T19:40:36.923Z"
   },
   {
    "duration": 382,
    "start_time": "2024-02-11T19:41:54.983Z"
   },
   {
    "duration": 484,
    "start_time": "2024-02-11T19:42:09.799Z"
   },
   {
    "duration": 396,
    "start_time": "2024-02-11T19:42:35.062Z"
   },
   {
    "duration": 388,
    "start_time": "2024-02-11T19:42:53.486Z"
   },
   {
    "duration": 427,
    "start_time": "2024-02-11T19:43:10.631Z"
   },
   {
    "duration": 3619,
    "start_time": "2024-02-11T19:45:44.416Z"
   },
   {
    "duration": 399,
    "start_time": "2024-02-11T19:45:48.037Z"
   },
   {
    "duration": 13,
    "start_time": "2024-02-11T19:45:48.438Z"
   },
   {
    "duration": 8,
    "start_time": "2024-02-11T19:45:48.453Z"
   },
   {
    "duration": 11,
    "start_time": "2024-02-11T19:45:48.462Z"
   },
   {
    "duration": 21,
    "start_time": "2024-02-11T19:45:48.475Z"
   },
   {
    "duration": 37,
    "start_time": "2024-02-11T19:45:48.497Z"
   },
   {
    "duration": 14,
    "start_time": "2024-02-11T19:45:48.536Z"
   },
   {
    "duration": 22,
    "start_time": "2024-02-11T19:45:48.551Z"
   },
   {
    "duration": 20,
    "start_time": "2024-02-11T19:45:48.576Z"
   },
   {
    "duration": 46,
    "start_time": "2024-02-11T19:45:48.598Z"
   },
   {
    "duration": 69,
    "start_time": "2024-02-11T19:45:48.646Z"
   },
   {
    "duration": 16,
    "start_time": "2024-02-11T19:45:48.717Z"
   },
   {
    "duration": 3,
    "start_time": "2024-02-11T19:45:48.735Z"
   },
   {
    "duration": 45770,
    "start_time": "2024-02-11T19:45:48.739Z"
   },
   {
    "duration": 54423,
    "start_time": "2024-02-11T19:46:34.511Z"
   },
   {
    "duration": 29705,
    "start_time": "2024-02-11T19:47:28.936Z"
   },
   {
    "duration": 457,
    "start_time": "2024-02-11T19:47:58.643Z"
   },
   {
    "duration": 453,
    "start_time": "2024-02-11T19:47:59.102Z"
   },
   {
    "duration": 410,
    "start_time": "2024-02-11T19:47:59.556Z"
   },
   {
    "duration": 12,
    "start_time": "2024-02-11T19:47:59.968Z"
   },
   {
    "duration": 53,
    "start_time": "2024-02-11T19:47:59.981Z"
   },
   {
    "duration": 98,
    "start_time": "2024-02-11T19:48:00.036Z"
   },
   {
    "duration": 109,
    "start_time": "2024-02-11T19:48:00.136Z"
   },
   {
    "duration": 39,
    "start_time": "2024-02-11T19:48:00.246Z"
   },
   {
    "duration": 28,
    "start_time": "2024-02-11T19:48:00.287Z"
   },
   {
    "duration": 46,
    "start_time": "2024-02-11T19:48:00.317Z"
   },
   {
    "duration": 57,
    "start_time": "2024-02-11T19:48:00.365Z"
   },
   {
    "duration": 32,
    "start_time": "2024-02-11T19:48:00.424Z"
   },
   {
    "duration": 37,
    "start_time": "2024-02-11T19:48:00.457Z"
   },
   {
    "duration": 136,
    "start_time": "2024-02-11T19:48:00.500Z"
   },
   {
    "duration": 33,
    "start_time": "2024-02-11T19:48:00.638Z"
   },
   {
    "duration": 32,
    "start_time": "2024-02-11T19:48:00.673Z"
   },
   {
    "duration": 50,
    "start_time": "2024-02-11T19:48:00.706Z"
   },
   {
    "duration": 46,
    "start_time": "2024-02-11T19:48:00.758Z"
   },
   {
    "duration": 41,
    "start_time": "2024-02-11T19:48:00.806Z"
   },
   {
    "duration": 38,
    "start_time": "2024-02-11T19:48:00.849Z"
   },
   {
    "duration": 40,
    "start_time": "2024-02-11T19:48:00.889Z"
   },
   {
    "duration": 50,
    "start_time": "2024-02-11T19:48:00.931Z"
   },
   {
    "duration": 32,
    "start_time": "2024-02-11T19:48:00.983Z"
   },
   {
    "duration": 28,
    "start_time": "2024-02-11T19:48:01.017Z"
   },
   {
    "duration": 1145,
    "start_time": "2024-02-11T19:48:01.047Z"
   },
   {
    "duration": 1085,
    "start_time": "2024-02-11T19:48:02.194Z"
   },
   {
    "duration": 1045,
    "start_time": "2024-02-11T19:48:03.281Z"
   }
  ],
  "kernelspec": {
   "display_name": "Python 3 (ipykernel)",
   "language": "python",
   "name": "python3"
  },
  "language_info": {
   "codemirror_mode": {
    "name": "ipython",
    "version": 3
   },
   "file_extension": ".py",
   "mimetype": "text/x-python",
   "name": "python",
   "nbconvert_exporter": "python",
   "pygments_lexer": "ipython3",
   "version": "3.9.5"
  },
  "toc": {
   "base_numbering": 1,
   "nav_menu": {
    "height": "283px",
    "width": "250px"
   },
   "number_sections": true,
   "sideBar": true,
   "skip_h1_title": true,
   "title_cell": "Table of Contents",
   "title_sidebar": "Contents",
   "toc_cell": false,
   "toc_position": {},
   "toc_section_display": true,
   "toc_window_display": false
  }
 },
 "nbformat": 4,
 "nbformat_minor": 2
}
